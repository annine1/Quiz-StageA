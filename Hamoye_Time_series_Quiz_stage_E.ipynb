{
  "nbformat": 4,
  "nbformat_minor": 0,
  "metadata": {
    "colab": {
      "name": "Hamoye_Time_series_Quiz_stage E.ipynb",
      "provenance": [],
      "collapsed_sections": []
    },
    "kernelspec": {
      "name": "python3",
      "display_name": "Python 3"
    },
    "language_info": {
      "name": "python"
    }
  },
  "cells": [
    {
      "cell_type": "markdown",
      "source": [
        "### <center> **Stage E: Practical Time Series Analysis & Forecast**"
      ],
      "metadata": {
        "id": "iVKxG7A6JmU9"
      }
    },
    {
      "cell_type": "markdown",
      "source": [
        "###<center>**ID: 147c5bd2f901f000**"
      ],
      "metadata": {
        "id": "N1m-tfD7JWgf"
      }
    },
    {
      "cell_type": "markdown",
      "source": [
        "In this quiz, we’ll explore and build time series forecasting models for measurements of electricity prices  of a District given the total amount of Electricity consumed in that District from 2010 to 2021.\n",
        "\n",
        "Data Set Information:\n",
        "\n",
        "The archive contains 92,016 measurements of electricity data gathered between September 2010 and February 2021.\n",
        "\n",
        "Notes:\n",
        "\n",
        "1. The dataset is sampled on an hourly basis. It has the following features:\n",
        "\n",
        "Attribute Information:\n",
        "\n",
        "FullDate: Date in format yyyy-mm-dd  hh:mm:ss\n",
        "ElecPrice: Prices of electricity charged in Kw per hour\n",
        "Gas Price: power generated was done via a gas power plant, gas price is the price of gas at time-T\n",
        "SysLoad: Total Load on system or Power consumed at time-T \n",
        "Tmax: maximum temperature at time-T\n",
        "\n"
      ],
      "metadata": {
        "id": "_qoZ2lD2KI2u"
      }
    },
    {
      "cell_type": "code",
      "execution_count": 81,
      "metadata": {
        "id": "DPqI5Ohqpbzz"
      },
      "outputs": [],
      "source": [
        "import pandas as pd\n",
        "import numpy as np\n",
        "import matplotlib.pyplot as plt\n",
        "import seaborn as sns\n",
        "import missingno as msno\n",
        "from fbprophet import Prophet\n",
        "from statsmodels.tsa.stattools import adfuller\n",
        "from sklearn.metrics import mean_absolute_percentage_error\n",
        "from sklearn.metrics import mean_squared_error"
      ]
    },
    {
      "cell_type": "code",
      "source": [
        "path = '/content/drive/MyDrive/Internship/Homoye/Stage E/dataset/Time_series_analysis_and_forecast_DATASET.csv'\n",
        "data = pd.read_csv(path)\n",
        "data.head()"
      ],
      "metadata": {
        "colab": {
          "base_uri": "https://localhost:8080/",
          "height": 206
        },
        "id": "S_7vnHk5poWh",
        "outputId": "024fbef7-af3d-459b-b525-122f4953c8fc"
      },
      "execution_count": 18,
      "outputs": [
        {
          "output_type": "execute_result",
          "data": {
            "text/plain": [
              "              FullDate  Tmax   SysLoad  GasPrice  ElecPrice\n",
              "0  2010-09-01 00:00:00  15.8  1688.215      3.69     23.710\n",
              "1  2010-09-01 01:00:00  15.8  1669.195      3.69     22.635\n",
              "2  2010-09-01 02:00:00  15.8  1491.980      3.69     22.565\n",
              "3  2010-09-01 03:00:00  15.8  1330.760      3.69     18.910\n",
              "4  2010-09-01 04:00:00  15.8  1247.940      3.69     18.030"
            ],
            "text/html": [
              "\n",
              "  <div id=\"df-e0c884e7-3778-4579-abbc-3b36358720f0\">\n",
              "    <div class=\"colab-df-container\">\n",
              "      <div>\n",
              "<style scoped>\n",
              "    .dataframe tbody tr th:only-of-type {\n",
              "        vertical-align: middle;\n",
              "    }\n",
              "\n",
              "    .dataframe tbody tr th {\n",
              "        vertical-align: top;\n",
              "    }\n",
              "\n",
              "    .dataframe thead th {\n",
              "        text-align: right;\n",
              "    }\n",
              "</style>\n",
              "<table border=\"1\" class=\"dataframe\">\n",
              "  <thead>\n",
              "    <tr style=\"text-align: right;\">\n",
              "      <th></th>\n",
              "      <th>FullDate</th>\n",
              "      <th>Tmax</th>\n",
              "      <th>SysLoad</th>\n",
              "      <th>GasPrice</th>\n",
              "      <th>ElecPrice</th>\n",
              "    </tr>\n",
              "  </thead>\n",
              "  <tbody>\n",
              "    <tr>\n",
              "      <th>0</th>\n",
              "      <td>2010-09-01 00:00:00</td>\n",
              "      <td>15.8</td>\n",
              "      <td>1688.215</td>\n",
              "      <td>3.69</td>\n",
              "      <td>23.710</td>\n",
              "    </tr>\n",
              "    <tr>\n",
              "      <th>1</th>\n",
              "      <td>2010-09-01 01:00:00</td>\n",
              "      <td>15.8</td>\n",
              "      <td>1669.195</td>\n",
              "      <td>3.69</td>\n",
              "      <td>22.635</td>\n",
              "    </tr>\n",
              "    <tr>\n",
              "      <th>2</th>\n",
              "      <td>2010-09-01 02:00:00</td>\n",
              "      <td>15.8</td>\n",
              "      <td>1491.980</td>\n",
              "      <td>3.69</td>\n",
              "      <td>22.565</td>\n",
              "    </tr>\n",
              "    <tr>\n",
              "      <th>3</th>\n",
              "      <td>2010-09-01 03:00:00</td>\n",
              "      <td>15.8</td>\n",
              "      <td>1330.760</td>\n",
              "      <td>3.69</td>\n",
              "      <td>18.910</td>\n",
              "    </tr>\n",
              "    <tr>\n",
              "      <th>4</th>\n",
              "      <td>2010-09-01 04:00:00</td>\n",
              "      <td>15.8</td>\n",
              "      <td>1247.940</td>\n",
              "      <td>3.69</td>\n",
              "      <td>18.030</td>\n",
              "    </tr>\n",
              "  </tbody>\n",
              "</table>\n",
              "</div>\n",
              "      <button class=\"colab-df-convert\" onclick=\"convertToInteractive('df-e0c884e7-3778-4579-abbc-3b36358720f0')\"\n",
              "              title=\"Convert this dataframe to an interactive table.\"\n",
              "              style=\"display:none;\">\n",
              "        \n",
              "  <svg xmlns=\"http://www.w3.org/2000/svg\" height=\"24px\"viewBox=\"0 0 24 24\"\n",
              "       width=\"24px\">\n",
              "    <path d=\"M0 0h24v24H0V0z\" fill=\"none\"/>\n",
              "    <path d=\"M18.56 5.44l.94 2.06.94-2.06 2.06-.94-2.06-.94-.94-2.06-.94 2.06-2.06.94zm-11 1L8.5 8.5l.94-2.06 2.06-.94-2.06-.94L8.5 2.5l-.94 2.06-2.06.94zm10 10l.94 2.06.94-2.06 2.06-.94-2.06-.94-.94-2.06-.94 2.06-2.06.94z\"/><path d=\"M17.41 7.96l-1.37-1.37c-.4-.4-.92-.59-1.43-.59-.52 0-1.04.2-1.43.59L10.3 9.45l-7.72 7.72c-.78.78-.78 2.05 0 2.83L4 21.41c.39.39.9.59 1.41.59.51 0 1.02-.2 1.41-.59l7.78-7.78 2.81-2.81c.8-.78.8-2.07 0-2.86zM5.41 20L4 18.59l7.72-7.72 1.47 1.35L5.41 20z\"/>\n",
              "  </svg>\n",
              "      </button>\n",
              "      \n",
              "  <style>\n",
              "    .colab-df-container {\n",
              "      display:flex;\n",
              "      flex-wrap:wrap;\n",
              "      gap: 12px;\n",
              "    }\n",
              "\n",
              "    .colab-df-convert {\n",
              "      background-color: #E8F0FE;\n",
              "      border: none;\n",
              "      border-radius: 50%;\n",
              "      cursor: pointer;\n",
              "      display: none;\n",
              "      fill: #1967D2;\n",
              "      height: 32px;\n",
              "      padding: 0 0 0 0;\n",
              "      width: 32px;\n",
              "    }\n",
              "\n",
              "    .colab-df-convert:hover {\n",
              "      background-color: #E2EBFA;\n",
              "      box-shadow: 0px 1px 2px rgba(60, 64, 67, 0.3), 0px 1px 3px 1px rgba(60, 64, 67, 0.15);\n",
              "      fill: #174EA6;\n",
              "    }\n",
              "\n",
              "    [theme=dark] .colab-df-convert {\n",
              "      background-color: #3B4455;\n",
              "      fill: #D2E3FC;\n",
              "    }\n",
              "\n",
              "    [theme=dark] .colab-df-convert:hover {\n",
              "      background-color: #434B5C;\n",
              "      box-shadow: 0px 1px 3px 1px rgba(0, 0, 0, 0.15);\n",
              "      filter: drop-shadow(0px 1px 2px rgba(0, 0, 0, 0.3));\n",
              "      fill: #FFFFFF;\n",
              "    }\n",
              "  </style>\n",
              "\n",
              "      <script>\n",
              "        const buttonEl =\n",
              "          document.querySelector('#df-e0c884e7-3778-4579-abbc-3b36358720f0 button.colab-df-convert');\n",
              "        buttonEl.style.display =\n",
              "          google.colab.kernel.accessAllowed ? 'block' : 'none';\n",
              "\n",
              "        async function convertToInteractive(key) {\n",
              "          const element = document.querySelector('#df-e0c884e7-3778-4579-abbc-3b36358720f0');\n",
              "          const dataTable =\n",
              "            await google.colab.kernel.invokeFunction('convertToInteractive',\n",
              "                                                     [key], {});\n",
              "          if (!dataTable) return;\n",
              "\n",
              "          const docLinkHtml = 'Like what you see? Visit the ' +\n",
              "            '<a target=\"_blank\" href=https://colab.research.google.com/notebooks/data_table.ipynb>data table notebook</a>'\n",
              "            + ' to learn more about interactive tables.';\n",
              "          element.innerHTML = '';\n",
              "          dataTable['output_type'] = 'display_data';\n",
              "          await google.colab.output.renderOutput(dataTable, element);\n",
              "          const docLink = document.createElement('div');\n",
              "          docLink.innerHTML = docLinkHtml;\n",
              "          element.appendChild(docLink);\n",
              "        }\n",
              "      </script>\n",
              "    </div>\n",
              "  </div>\n",
              "  "
            ]
          },
          "metadata": {},
          "execution_count": 18
        }
      ]
    },
    {
      "cell_type": "code",
      "source": [
        "# data shape\n",
        "data.shape"
      ],
      "metadata": {
        "colab": {
          "base_uri": "https://localhost:8080/"
        },
        "id": "-12meazFp81I",
        "outputId": "ab695ab8-15d3-4e89-b701-8329605af250"
      },
      "execution_count": 13,
      "outputs": [
        {
          "output_type": "execute_result",
          "data": {
            "text/plain": [
              "(92016, 5)"
            ]
          },
          "metadata": {},
          "execution_count": 13
        }
      ]
    },
    {
      "cell_type": "code",
      "source": [
        "#  check missing data\n",
        "data.isnull().sum()"
      ],
      "metadata": {
        "colab": {
          "base_uri": "https://localhost:8080/"
        },
        "id": "c_hu1jieqCsy",
        "outputId": "4ddb3a5d-621d-444f-cdf0-7fd75e95c726"
      },
      "execution_count": 14,
      "outputs": [
        {
          "output_type": "execute_result",
          "data": {
            "text/plain": [
              "FullDate     0\n",
              "Tmax         0\n",
              "SysLoad      0\n",
              "GasPrice     0\n",
              "ElecPrice    0\n",
              "dtype: int64"
            ]
          },
          "metadata": {},
          "execution_count": 14
        }
      ]
    },
    {
      "cell_type": "code",
      "source": [
        "msno.matrix(data)"
      ],
      "metadata": {
        "colab": {
          "base_uri": "https://localhost:8080/",
          "height": 304
        },
        "id": "hZPkqRaatYWr",
        "outputId": "69b418da-7e07-4d9b-aad7-0c1b75e0f424"
      },
      "execution_count": null,
      "outputs": [
        {
          "output_type": "execute_result",
          "data": {
            "text/plain": [
              "<matplotlib.axes._subplots.AxesSubplot at 0x7f3bc6db6c90>"
            ]
          },
          "metadata": {},
          "execution_count": 5
        },
        {
          "output_type": "display_data",
          "data": {
            "text/plain": [
              "<Figure size 1800x720 with 2 Axes>"
            ],
            "image/png": "[encoded data removed]"
          },
          "metadata": {
            "needs_background": "light"
          }
        }
      ]
    },
    {
      "cell_type": "code",
      "source": [
        "msno.bar(data);"
      ],
      "metadata": {
        "colab": {
          "base_uri": "https://localhost:8080/",
          "height": 302
        },
        "id": "od7w6WsNtpwz",
        "outputId": "2348deda-1b1b-4089-f6d4-2f5598acc499"
      },
      "execution_count": null,
      "outputs": [
        {
          "output_type": "display_data",
          "data": {
            "text/plain": [
              "<Figure size 1800x720 with 3 Axes>"
            ],
            "image/png": "[encoded data removed]"
          },
          "metadata": {
            "needs_background": "light"
          }
        }
      ]
    },
    {
      "cell_type": "markdown",
      "source": [
        "The data doesn't contains missing values."
      ],
      "metadata": {
        "id": "Wi1m23wLqN8d"
      }
    },
    {
      "cell_type": "code",
      "source": [
        "plt.plot(data.index, data.ElecPrice, '--', marker='*')\n",
        "plt.show()"
      ],
      "metadata": {
        "colab": {
          "base_uri": "https://localhost:8080/",
          "height": 265
        },
        "id": "bdB1EStC7Q5F",
        "outputId": "3d1214c4-e85b-4fa5-f754-64f9f5fc592e"
      },
      "execution_count": null,
      "outputs": [
        {
          "output_type": "display_data",
          "data": {
            "text/plain": [
              "<Figure size 432x288 with 1 Axes>"
            ],
            "image/png": "[encoded data removed]"
          },
          "metadata": {
            "needs_background": "light"
          }
        }
      ]
    },
    {
      "cell_type": "markdown",
      "source": [
        "**Q11: plot of ElecPrice over time**"
      ],
      "metadata": {
        "id": "VlYbqtcO4YrT"
      }
    },
    {
      "cell_type": "code",
      "source": [
        "#Upsample to daily data points\n",
        "data['FullDate'] = pd.to_datetime(data['FullDate']) ##convert column to datetime\n",
        "data.set_index('FullDate', inplace=True)\n",
        "data_daily = data.resample( 'D' ).mean()\n",
        "data_daily.head()"
      ],
      "metadata": {
        "colab": {
          "base_uri": "https://localhost:8080/",
          "height": 237
        },
        "id": "1lF4C3K-tEL5",
        "outputId": "a830a9fa-b006-4330-9ec1-08cc94aaeec2"
      },
      "execution_count": 19,
      "outputs": [
        {
          "output_type": "execute_result",
          "data": {
            "text/plain": [
              "            Tmax      SysLoad  GasPrice   ElecPrice\n",
              "FullDate                                           \n",
              "2010-09-01  15.8  1731.890833      3.69  114.654167\n",
              "2010-09-02  15.4  1620.791250      3.69   23.783750\n",
              "2010-09-03  18.3  1736.073333      4.45   21.040625\n",
              "2010-09-04  13.7  1484.920208      3.39   20.928125\n",
              "2010-09-05  14.9  1483.808750      4.45   20.856458"
            ],
            "text/html": [
              "\n",
              "  <div id=\"df-ed233d43-00ba-4401-98f8-30ffc7b68c34\">\n",
              "    <div class=\"colab-df-container\">\n",
              "      <div>\n",
              "<style scoped>\n",
              "    .dataframe tbody tr th:only-of-type {\n",
              "        vertical-align: middle;\n",
              "    }\n",
              "\n",
              "    .dataframe tbody tr th {\n",
              "        vertical-align: top;\n",
              "    }\n",
              "\n",
              "    .dataframe thead th {\n",
              "        text-align: right;\n",
              "    }\n",
              "</style>\n",
              "<table border=\"1\" class=\"dataframe\">\n",
              "  <thead>\n",
              "    <tr style=\"text-align: right;\">\n",
              "      <th></th>\n",
              "      <th>Tmax</th>\n",
              "      <th>SysLoad</th>\n",
              "      <th>GasPrice</th>\n",
              "      <th>ElecPrice</th>\n",
              "    </tr>\n",
              "    <tr>\n",
              "      <th>FullDate</th>\n",
              "      <th></th>\n",
              "      <th></th>\n",
              "      <th></th>\n",
              "      <th></th>\n",
              "    </tr>\n",
              "  </thead>\n",
              "  <tbody>\n",
              "    <tr>\n",
              "      <th>2010-09-01</th>\n",
              "      <td>15.8</td>\n",
              "      <td>1731.890833</td>\n",
              "      <td>3.69</td>\n",
              "      <td>114.654167</td>\n",
              "    </tr>\n",
              "    <tr>\n",
              "      <th>2010-09-02</th>\n",
              "      <td>15.4</td>\n",
              "      <td>1620.791250</td>\n",
              "      <td>3.69</td>\n",
              "      <td>23.783750</td>\n",
              "    </tr>\n",
              "    <tr>\n",
              "      <th>2010-09-03</th>\n",
              "      <td>18.3</td>\n",
              "      <td>1736.073333</td>\n",
              "      <td>4.45</td>\n",
              "      <td>21.040625</td>\n",
              "    </tr>\n",
              "    <tr>\n",
              "      <th>2010-09-04</th>\n",
              "      <td>13.7</td>\n",
              "      <td>1484.920208</td>\n",
              "      <td>3.39</td>\n",
              "      <td>20.928125</td>\n",
              "    </tr>\n",
              "    <tr>\n",
              "      <th>2010-09-05</th>\n",
              "      <td>14.9</td>\n",
              "      <td>1483.808750</td>\n",
              "      <td>4.45</td>\n",
              "      <td>20.856458</td>\n",
              "    </tr>\n",
              "  </tbody>\n",
              "</table>\n",
              "</div>\n",
              "      <button class=\"colab-df-convert\" onclick=\"convertToInteractive('df-ed233d43-00ba-4401-98f8-30ffc7b68c34')\"\n",
              "              title=\"Convert this dataframe to an interactive table.\"\n",
              "              style=\"display:none;\">\n",
              "        \n",
              "  <svg xmlns=\"http://www.w3.org/2000/svg\" height=\"24px\"viewBox=\"0 0 24 24\"\n",
              "       width=\"24px\">\n",
              "    <path d=\"M0 0h24v24H0V0z\" fill=\"none\"/>\n",
              "    <path d=\"M18.56 5.44l.94 2.06.94-2.06 2.06-.94-2.06-.94-.94-2.06-.94 2.06-2.06.94zm-11 1L8.5 8.5l.94-2.06 2.06-.94-2.06-.94L8.5 2.5l-.94 2.06-2.06.94zm10 10l.94 2.06.94-2.06 2.06-.94-2.06-.94-.94-2.06-.94 2.06-2.06.94z\"/><path d=\"M17.41 7.96l-1.37-1.37c-.4-.4-.92-.59-1.43-.59-.52 0-1.04.2-1.43.59L10.3 9.45l-7.72 7.72c-.78.78-.78 2.05 0 2.83L4 21.41c.39.39.9.59 1.41.59.51 0 1.02-.2 1.41-.59l7.78-7.78 2.81-2.81c.8-.78.8-2.07 0-2.86zM5.41 20L4 18.59l7.72-7.72 1.47 1.35L5.41 20z\"/>\n",
              "  </svg>\n",
              "      </button>\n",
              "      \n",
              "  <style>\n",
              "    .colab-df-container {\n",
              "      display:flex;\n",
              "      flex-wrap:wrap;\n",
              "      gap: 12px;\n",
              "    }\n",
              "\n",
              "    .colab-df-convert {\n",
              "      background-color: #E8F0FE;\n",
              "      border: none;\n",
              "      border-radius: 50%;\n",
              "      cursor: pointer;\n",
              "      display: none;\n",
              "      fill: #1967D2;\n",
              "      height: 32px;\n",
              "      padding: 0 0 0 0;\n",
              "      width: 32px;\n",
              "    }\n",
              "\n",
              "    .colab-df-convert:hover {\n",
              "      background-color: #E2EBFA;\n",
              "      box-shadow: 0px 1px 2px rgba(60, 64, 67, 0.3), 0px 1px 3px 1px rgba(60, 64, 67, 0.15);\n",
              "      fill: #174EA6;\n",
              "    }\n",
              "\n",
              "    [theme=dark] .colab-df-convert {\n",
              "      background-color: #3B4455;\n",
              "      fill: #D2E3FC;\n",
              "    }\n",
              "\n",
              "    [theme=dark] .colab-df-convert:hover {\n",
              "      background-color: #434B5C;\n",
              "      box-shadow: 0px 1px 3px 1px rgba(0, 0, 0, 0.15);\n",
              "      filter: drop-shadow(0px 1px 2px rgba(0, 0, 0, 0.3));\n",
              "      fill: #FFFFFF;\n",
              "    }\n",
              "  </style>\n",
              "\n",
              "      <script>\n",
              "        const buttonEl =\n",
              "          document.querySelector('#df-ed233d43-00ba-4401-98f8-30ffc7b68c34 button.colab-df-convert');\n",
              "        buttonEl.style.display =\n",
              "          google.colab.kernel.accessAllowed ? 'block' : 'none';\n",
              "\n",
              "        async function convertToInteractive(key) {\n",
              "          const element = document.querySelector('#df-ed233d43-00ba-4401-98f8-30ffc7b68c34');\n",
              "          const dataTable =\n",
              "            await google.colab.kernel.invokeFunction('convertToInteractive',\n",
              "                                                     [key], {});\n",
              "          if (!dataTable) return;\n",
              "\n",
              "          const docLinkHtml = 'Like what you see? Visit the ' +\n",
              "            '<a target=\"_blank\" href=https://colab.research.google.com/notebooks/data_table.ipynb>data table notebook</a>'\n",
              "            + ' to learn more about interactive tables.';\n",
              "          element.innerHTML = '';\n",
              "          dataTable['output_type'] = 'display_data';\n",
              "          await google.colab.output.renderOutput(dataTable, element);\n",
              "          const docLink = document.createElement('div');\n",
              "          docLink.innerHTML = docLinkHtml;\n",
              "          element.appendChild(docLink);\n",
              "        }\n",
              "      </script>\n",
              "    </div>\n",
              "  </div>\n",
              "  "
            ]
          },
          "metadata": {},
          "execution_count": 19
        }
      ]
    },
    {
      "cell_type": "code",
      "source": [
        "plt.figure(figsize=(10,6))\n",
        "plt.plot(data_daily.index, data_daily.ElecPrice, '--', marker='*')\n",
        "plt.xlabel('Year')\n",
        "plt.ylabel('ElecPrice')\n",
        "plt.title('Upsampled Data')\n",
        "plt.grid()\n",
        "plt.show()"
      ],
      "metadata": {
        "colab": {
          "base_uri": "https://localhost:8080/",
          "height": 404
        },
        "id": "J6V3FB5Cun9G",
        "outputId": "dabb77cc-68b7-41ac-c144-0dda984a285f"
      },
      "execution_count": 21,
      "outputs": [
        {
          "output_type": "display_data",
          "data": {
            "text/plain": [
              "<Figure size 720x432 with 1 Axes>"
            ],
            "image/png": "[encoded data removed]"
          },
          "metadata": {
            "needs_background": "light"
          }
        }
      ]
    },
    {
      "cell_type": "markdown",
      "source": [
        "**Q12: Augmented Dicky Fuller test (ADF)**"
      ],
      "metadata": {
        "id": "LyP4FeYO3V70"
      }
    },
    {
      "cell_type": "code",
      "source": [
        "# For SysLoad\n",
        "adf_result = adfuller(data_daily[ 'SysLoad' ])\n",
        "print( f'ADF Statistic: {adf_result[ 0 ]}' )\n",
        "print( f'p-value: {round(adf_result[ 1 ], 6)}' )\n",
        "print( f'No. of lags used: {adf_result[ 2 ]}' )\n",
        "print( f'No. of observations used : {adf_result[ 3 ]}' )\n",
        "print( 'Critical Values:' )\n",
        "for k, v in adf_result[ 4 ].items():\n",
        "  print(f'{k}:{v}')"
      ],
      "metadata": {
        "colab": {
          "base_uri": "https://localhost:8080/"
        },
        "id": "FRusN3yjwUBU",
        "outputId": "646d4faf-87a5-4687-c7a9-747887aeba9b"
      },
      "execution_count": 26,
      "outputs": [
        {
          "output_type": "stream",
          "name": "stdout",
          "text": [
            "ADF Statistic: -3.6901589888366413\n",
            "p-value: 0.004254\n",
            "No. of lags used: 30\n",
            "No. of observations used : 3803\n",
            "Critical Values:\n",
            "1%:-3.432070672988693\n",
            "5%:-2.8623002987378547\n",
            "10%:-2.567174716967499\n"
          ]
        }
      ]
    },
    {
      "cell_type": "code",
      "source": [
        "# For GasPricee\n",
        "adf_result = adfuller(data_daily[ 'GasPrice' ])\n",
        "print( f'ADF Statistic: {adf_result[ 0 ]}' )\n",
        "print( f'p-value: {round(adf_result[ 1 ], 6)}' )\n",
        "print( f'No. of lags used: {adf_result[ 2 ]}' )\n",
        "print( f'No. of observations used : {adf_result[ 3 ]}' )\n",
        "print( 'Critical Values:' )\n",
        "for k, v in adf_result[ 4 ].items():\n",
        "  print(f'{k}:{round(v,4)}')"
      ],
      "metadata": {
        "colab": {
          "base_uri": "https://localhost:8080/"
        },
        "id": "Ifx2qG7PxFyz",
        "outputId": "7523fb13-5ca6-44fb-ae68-ed6b5198b563"
      },
      "execution_count": 28,
      "outputs": [
        {
          "output_type": "stream",
          "name": "stdout",
          "text": [
            "ADF Statistic: -2.902766697165181\n",
            "p-value: 0.045027\n",
            "No. of lags used: 27\n",
            "No. of observations used : 3806\n",
            "Critical Values:\n",
            "1%:-3.4321\n",
            "5%:-2.8623\n",
            "10%:-2.5672\n"
          ]
        }
      ]
    },
    {
      "cell_type": "markdown",
      "source": [
        "Using the Augmented Dicky Fuller test (ADF), what is the P-value of the SysLoad and GasPrice of the resampled Data set, to 6 decimal places are, respectively:\n",
        "\n",
        "**0.004254, 0.045027**"
      ],
      "metadata": {
        "id": "xv07Uxfy3ma2"
      }
    },
    {
      "cell_type": "markdown",
      "source": [
        "**Q13: Augmented Dicky Fuller test (ADF)**"
      ],
      "metadata": {
        "id": "-lgD8-TixUg-"
      }
    },
    {
      "cell_type": "code",
      "source": [
        "# For GasPrice\n",
        "adf_result = adfuller(data_daily[ 'GasPrice' ])\n",
        "print( f'ADF Statistic: {adf_result[ 0 ]}' )\n",
        "print( f'p-value: {round(adf_result[ 1 ], 6)}' )\n",
        "print( f'No. of lags used: {adf_result[ 2 ]}' )\n",
        "print( f'No. of observations used : {adf_result[ 3 ]}' )\n",
        "print( 'Critical Values:' )\n",
        "for k, v in adf_result[ 4 ].items():\n",
        "  print(f'{k}:{round(v,4)}')"
      ],
      "metadata": {
        "colab": {
          "base_uri": "https://localhost:8080/"
        },
        "id": "MkaORO5P26MG",
        "outputId": "0f243c2a-27bf-47e4-e2e0-352a79403ca0"
      },
      "execution_count": 46,
      "outputs": [
        {
          "output_type": "stream",
          "name": "stdout",
          "text": [
            "ADF Statistic: -2.902766697165181\n",
            "p-value: 0.045027\n",
            "No. of lags used: 27\n",
            "No. of observations used : 3806\n",
            "Critical Values:\n",
            "1%:-3.4321\n",
            "5%:-2.8623\n",
            "10%:-2.5672\n"
          ]
        }
      ]
    },
    {
      "cell_type": "code",
      "source": [
        "# For ElecPrice\n",
        "adf_result = adfuller(data_daily[ 'ElecPrice' ])\n",
        "print( f'ADF Statistic: {adf_result[ 0 ]}' )\n",
        "print( f'p-value: {round(adf_result[ 1 ], 6)}' )\n",
        "print( f'No. of lags used: {adf_result[ 2 ]}' )\n",
        "print( f'No. of observations used : {adf_result[ 3 ]}' )\n",
        "print( 'Critical Values:' )\n",
        "for k, v in adf_result[ 4 ].items():\n",
        "  print(f'{k}:{round(v,4)}')"
      ],
      "metadata": {
        "colab": {
          "base_uri": "https://localhost:8080/"
        },
        "id": "0PSx2eK5xXCb",
        "outputId": "751f3e53-bc00-4707-dd4a-57dc5a8ea91b"
      },
      "execution_count": 29,
      "outputs": [
        {
          "output_type": "stream",
          "name": "stdout",
          "text": [
            "ADF Statistic: -8.269053866873804\n",
            "p-value: 0.0\n",
            "No. of lags used: 20\n",
            "No. of observations used : 3813\n",
            "Critical Values:\n",
            "1%:-3.4321\n",
            "5%:-2.8623\n",
            "10%:-2.5672\n"
          ]
        }
      ]
    },
    {
      "cell_type": "markdown",
      "source": [
        "the 10% and 5% critical values of GasPrice and ElecPrice of the resampled Data set, to 4 decimal places are, respectively: \n",
        "\n",
        "**-2.5672, -2.8623**"
      ],
      "metadata": {
        "id": "bLECyVMT2w51"
      }
    },
    {
      "cell_type": "markdown",
      "source": [
        "### Q14"
      ],
      "metadata": {
        "id": "xeoa8xzhE9I_"
      }
    },
    {
      "cell_type": "code",
      "source": [
        "# \n",
        "path = '/content/drive/MyDrive/Internship/Homoye/Stage E/dataset/Time_series_analysis_and_forecast_DATASET.csv'\n",
        "df = pd.read_csv(path)\n",
        "df = df.loc[:, ['FullDate','ElecPrice']]\n",
        "df['FullDate'] = pd.to_datetime(df['FullDate'])\n",
        "df = df.rename(columns={'FullDate':'ds', 'ElecPrice': 'y'})\n",
        "df.head()"
      ],
      "metadata": {
        "colab": {
          "base_uri": "https://localhost:8080/",
          "height": 206
        },
        "id": "h5T47RXiqIjp",
        "outputId": "859c1d66-69b9-4516-ebac-4915b57510af"
      },
      "execution_count": 72,
      "outputs": [
        {
          "output_type": "execute_result",
          "data": {
            "text/plain": [
              "                   ds       y\n",
              "0 2010-09-01 00:00:00  23.710\n",
              "1 2010-09-01 01:00:00  22.635\n",
              "2 2010-09-01 02:00:00  22.565\n",
              "3 2010-09-01 03:00:00  18.910\n",
              "4 2010-09-01 04:00:00  18.030"
            ],
            "text/html": [
              "\n",
              "  <div id=\"df-ef6c2784-9bba-4b99-a0d3-69d0e9ff75e4\">\n",
              "    <div class=\"colab-df-container\">\n",
              "      <div>\n",
              "<style scoped>\n",
              "    .dataframe tbody tr th:only-of-type {\n",
              "        vertical-align: middle;\n",
              "    }\n",
              "\n",
              "    .dataframe tbody tr th {\n",
              "        vertical-align: top;\n",
              "    }\n",
              "\n",
              "    .dataframe thead th {\n",
              "        text-align: right;\n",
              "    }\n",
              "</style>\n",
              "<table border=\"1\" class=\"dataframe\">\n",
              "  <thead>\n",
              "    <tr style=\"text-align: right;\">\n",
              "      <th></th>\n",
              "      <th>ds</th>\n",
              "      <th>y</th>\n",
              "    </tr>\n",
              "  </thead>\n",
              "  <tbody>\n",
              "    <tr>\n",
              "      <th>0</th>\n",
              "      <td>2010-09-01 00:00:00</td>\n",
              "      <td>23.710</td>\n",
              "    </tr>\n",
              "    <tr>\n",
              "      <th>1</th>\n",
              "      <td>2010-09-01 01:00:00</td>\n",
              "      <td>22.635</td>\n",
              "    </tr>\n",
              "    <tr>\n",
              "      <th>2</th>\n",
              "      <td>2010-09-01 02:00:00</td>\n",
              "      <td>22.565</td>\n",
              "    </tr>\n",
              "    <tr>\n",
              "      <th>3</th>\n",
              "      <td>2010-09-01 03:00:00</td>\n",
              "      <td>18.910</td>\n",
              "    </tr>\n",
              "    <tr>\n",
              "      <th>4</th>\n",
              "      <td>2010-09-01 04:00:00</td>\n",
              "      <td>18.030</td>\n",
              "    </tr>\n",
              "  </tbody>\n",
              "</table>\n",
              "</div>\n",
              "      <button class=\"colab-df-convert\" onclick=\"convertToInteractive('df-ef6c2784-9bba-4b99-a0d3-69d0e9ff75e4')\"\n",
              "              title=\"Convert this dataframe to an interactive table.\"\n",
              "              style=\"display:none;\">\n",
              "        \n",
              "  <svg xmlns=\"http://www.w3.org/2000/svg\" height=\"24px\"viewBox=\"0 0 24 24\"\n",
              "       width=\"24px\">\n",
              "    <path d=\"M0 0h24v24H0V0z\" fill=\"none\"/>\n",
              "    <path d=\"M18.56 5.44l.94 2.06.94-2.06 2.06-.94-2.06-.94-.94-2.06-.94 2.06-2.06.94zm-11 1L8.5 8.5l.94-2.06 2.06-.94-2.06-.94L8.5 2.5l-.94 2.06-2.06.94zm10 10l.94 2.06.94-2.06 2.06-.94-2.06-.94-.94-2.06-.94 2.06-2.06.94z\"/><path d=\"M17.41 7.96l-1.37-1.37c-.4-.4-.92-.59-1.43-.59-.52 0-1.04.2-1.43.59L10.3 9.45l-7.72 7.72c-.78.78-.78 2.05 0 2.83L4 21.41c.39.39.9.59 1.41.59.51 0 1.02-.2 1.41-.59l7.78-7.78 2.81-2.81c.8-.78.8-2.07 0-2.86zM5.41 20L4 18.59l7.72-7.72 1.47 1.35L5.41 20z\"/>\n",
              "  </svg>\n",
              "      </button>\n",
              "      \n",
              "  <style>\n",
              "    .colab-df-container {\n",
              "      display:flex;\n",
              "      flex-wrap:wrap;\n",
              "      gap: 12px;\n",
              "    }\n",
              "\n",
              "    .colab-df-convert {\n",
              "      background-color: #E8F0FE;\n",
              "      border: none;\n",
              "      border-radius: 50%;\n",
              "      cursor: pointer;\n",
              "      display: none;\n",
              "      fill: #1967D2;\n",
              "      height: 32px;\n",
              "      padding: 0 0 0 0;\n",
              "      width: 32px;\n",
              "    }\n",
              "\n",
              "    .colab-df-convert:hover {\n",
              "      background-color: #E2EBFA;\n",
              "      box-shadow: 0px 1px 2px rgba(60, 64, 67, 0.3), 0px 1px 3px 1px rgba(60, 64, 67, 0.15);\n",
              "      fill: #174EA6;\n",
              "    }\n",
              "\n",
              "    [theme=dark] .colab-df-convert {\n",
              "      background-color: #3B4455;\n",
              "      fill: #D2E3FC;\n",
              "    }\n",
              "\n",
              "    [theme=dark] .colab-df-convert:hover {\n",
              "      background-color: #434B5C;\n",
              "      box-shadow: 0px 1px 3px 1px rgba(0, 0, 0, 0.15);\n",
              "      filter: drop-shadow(0px 1px 2px rgba(0, 0, 0, 0.3));\n",
              "      fill: #FFFFFF;\n",
              "    }\n",
              "  </style>\n",
              "\n",
              "      <script>\n",
              "        const buttonEl =\n",
              "          document.querySelector('#df-ef6c2784-9bba-4b99-a0d3-69d0e9ff75e4 button.colab-df-convert');\n",
              "        buttonEl.style.display =\n",
              "          google.colab.kernel.accessAllowed ? 'block' : 'none';\n",
              "\n",
              "        async function convertToInteractive(key) {\n",
              "          const element = document.querySelector('#df-ef6c2784-9bba-4b99-a0d3-69d0e9ff75e4');\n",
              "          const dataTable =\n",
              "            await google.colab.kernel.invokeFunction('convertToInteractive',\n",
              "                                                     [key], {});\n",
              "          if (!dataTable) return;\n",
              "\n",
              "          const docLinkHtml = 'Like what you see? Visit the ' +\n",
              "            '<a target=\"_blank\" href=https://colab.research.google.com/notebooks/data_table.ipynb>data table notebook</a>'\n",
              "            + ' to learn more about interactive tables.';\n",
              "          element.innerHTML = '';\n",
              "          dataTable['output_type'] = 'display_data';\n",
              "          await google.colab.output.renderOutput(dataTable, element);\n",
              "          const docLink = document.createElement('div');\n",
              "          docLink.innerHTML = docLinkHtml;\n",
              "          element.appendChild(docLink);\n",
              "        }\n",
              "      </script>\n",
              "    </div>\n",
              "  </div>\n",
              "  "
            ]
          },
          "metadata": {},
          "execution_count": 72
        }
      ]
    },
    {
      "cell_type": "code",
      "source": [
        "train = df.iloc[:2757, :]\n",
        "test = df.iloc[2757:, :]"
      ],
      "metadata": {
        "id": "etVmjUAnqa3J"
      },
      "execution_count": 73,
      "outputs": []
    },
    {
      "cell_type": "code",
      "source": [
        "print(train.shape, test.shape)\n",
        "train.head()"
      ],
      "metadata": {
        "colab": {
          "base_uri": "https://localhost:8080/",
          "height": 223
        },
        "id": "E8nLP2WlFDNc",
        "outputId": "918842ac-d9ef-41cf-e627-bc852146a4d3"
      },
      "execution_count": 74,
      "outputs": [
        {
          "output_type": "stream",
          "name": "stdout",
          "text": [
            "(2757, 2) (89259, 2)\n"
          ]
        },
        {
          "output_type": "execute_result",
          "data": {
            "text/plain": [
              "                   ds       y\n",
              "0 2010-09-01 00:00:00  23.710\n",
              "1 2010-09-01 01:00:00  22.635\n",
              "2 2010-09-01 02:00:00  22.565\n",
              "3 2010-09-01 03:00:00  18.910\n",
              "4 2010-09-01 04:00:00  18.030"
            ],
            "text/html": [
              "\n",
              "  <div id=\"df-00df424e-372f-4eb0-a8b7-a46cab389c33\">\n",
              "    <div class=\"colab-df-container\">\n",
              "      <div>\n",
              "<style scoped>\n",
              "    .dataframe tbody tr th:only-of-type {\n",
              "        vertical-align: middle;\n",
              "    }\n",
              "\n",
              "    .dataframe tbody tr th {\n",
              "        vertical-align: top;\n",
              "    }\n",
              "\n",
              "    .dataframe thead th {\n",
              "        text-align: right;\n",
              "    }\n",
              "</style>\n",
              "<table border=\"1\" class=\"dataframe\">\n",
              "  <thead>\n",
              "    <tr style=\"text-align: right;\">\n",
              "      <th></th>\n",
              "      <th>ds</th>\n",
              "      <th>y</th>\n",
              "    </tr>\n",
              "  </thead>\n",
              "  <tbody>\n",
              "    <tr>\n",
              "      <th>0</th>\n",
              "      <td>2010-09-01 00:00:00</td>\n",
              "      <td>23.710</td>\n",
              "    </tr>\n",
              "    <tr>\n",
              "      <th>1</th>\n",
              "      <td>2010-09-01 01:00:00</td>\n",
              "      <td>22.635</td>\n",
              "    </tr>\n",
              "    <tr>\n",
              "      <th>2</th>\n",
              "      <td>2010-09-01 02:00:00</td>\n",
              "      <td>22.565</td>\n",
              "    </tr>\n",
              "    <tr>\n",
              "      <th>3</th>\n",
              "      <td>2010-09-01 03:00:00</td>\n",
              "      <td>18.910</td>\n",
              "    </tr>\n",
              "    <tr>\n",
              "      <th>4</th>\n",
              "      <td>2010-09-01 04:00:00</td>\n",
              "      <td>18.030</td>\n",
              "    </tr>\n",
              "  </tbody>\n",
              "</table>\n",
              "</div>\n",
              "      <button class=\"colab-df-convert\" onclick=\"convertToInteractive('df-00df424e-372f-4eb0-a8b7-a46cab389c33')\"\n",
              "              title=\"Convert this dataframe to an interactive table.\"\n",
              "              style=\"display:none;\">\n",
              "        \n",
              "  <svg xmlns=\"http://www.w3.org/2000/svg\" height=\"24px\"viewBox=\"0 0 24 24\"\n",
              "       width=\"24px\">\n",
              "    <path d=\"M0 0h24v24H0V0z\" fill=\"none\"/>\n",
              "    <path d=\"M18.56 5.44l.94 2.06.94-2.06 2.06-.94-2.06-.94-.94-2.06-.94 2.06-2.06.94zm-11 1L8.5 8.5l.94-2.06 2.06-.94-2.06-.94L8.5 2.5l-.94 2.06-2.06.94zm10 10l.94 2.06.94-2.06 2.06-.94-2.06-.94-.94-2.06-.94 2.06-2.06.94z\"/><path d=\"M17.41 7.96l-1.37-1.37c-.4-.4-.92-.59-1.43-.59-.52 0-1.04.2-1.43.59L10.3 9.45l-7.72 7.72c-.78.78-.78 2.05 0 2.83L4 21.41c.39.39.9.59 1.41.59.51 0 1.02-.2 1.41-.59l7.78-7.78 2.81-2.81c.8-.78.8-2.07 0-2.86zM5.41 20L4 18.59l7.72-7.72 1.47 1.35L5.41 20z\"/>\n",
              "  </svg>\n",
              "      </button>\n",
              "      \n",
              "  <style>\n",
              "    .colab-df-container {\n",
              "      display:flex;\n",
              "      flex-wrap:wrap;\n",
              "      gap: 12px;\n",
              "    }\n",
              "\n",
              "    .colab-df-convert {\n",
              "      background-color: #E8F0FE;\n",
              "      border: none;\n",
              "      border-radius: 50%;\n",
              "      cursor: pointer;\n",
              "      display: none;\n",
              "      fill: #1967D2;\n",
              "      height: 32px;\n",
              "      padding: 0 0 0 0;\n",
              "      width: 32px;\n",
              "    }\n",
              "\n",
              "    .colab-df-convert:hover {\n",
              "      background-color: #E2EBFA;\n",
              "      box-shadow: 0px 1px 2px rgba(60, 64, 67, 0.3), 0px 1px 3px 1px rgba(60, 64, 67, 0.15);\n",
              "      fill: #174EA6;\n",
              "    }\n",
              "\n",
              "    [theme=dark] .colab-df-convert {\n",
              "      background-color: #3B4455;\n",
              "      fill: #D2E3FC;\n",
              "    }\n",
              "\n",
              "    [theme=dark] .colab-df-convert:hover {\n",
              "      background-color: #434B5C;\n",
              "      box-shadow: 0px 1px 3px 1px rgba(0, 0, 0, 0.15);\n",
              "      filter: drop-shadow(0px 1px 2px rgba(0, 0, 0, 0.3));\n",
              "      fill: #FFFFFF;\n",
              "    }\n",
              "  </style>\n",
              "\n",
              "      <script>\n",
              "        const buttonEl =\n",
              "          document.querySelector('#df-00df424e-372f-4eb0-a8b7-a46cab389c33 button.colab-df-convert');\n",
              "        buttonEl.style.display =\n",
              "          google.colab.kernel.accessAllowed ? 'block' : 'none';\n",
              "\n",
              "        async function convertToInteractive(key) {\n",
              "          const element = document.querySelector('#df-00df424e-372f-4eb0-a8b7-a46cab389c33');\n",
              "          const dataTable =\n",
              "            await google.colab.kernel.invokeFunction('convertToInteractive',\n",
              "                                                     [key], {});\n",
              "          if (!dataTable) return;\n",
              "\n",
              "          const docLinkHtml = 'Like what you see? Visit the ' +\n",
              "            '<a target=\"_blank\" href=https://colab.research.google.com/notebooks/data_table.ipynb>data table notebook</a>'\n",
              "            + ' to learn more about interactive tables.';\n",
              "          element.innerHTML = '';\n",
              "          dataTable['output_type'] = 'display_data';\n",
              "          await google.colab.output.renderOutput(dataTable, element);\n",
              "          const docLink = document.createElement('div');\n",
              "          docLink.innerHTML = docLinkHtml;\n",
              "          element.appendChild(docLink);\n",
              "        }\n",
              "      </script>\n",
              "    </div>\n",
              "  </div>\n",
              "  "
            ]
          },
          "metadata": {},
          "execution_count": 74
        }
      ]
    },
    {
      "cell_type": "code",
      "source": [
        "model = Prophet()\n",
        "model.fit(train)\n",
        "future = model.make_future_dataframe(periods= 10 , freq= 'M' )\n",
        "\n",
        "forecast=model.predict(future)\n",
        "forecast.head()\n"
      ],
      "metadata": {
        "colab": {
          "base_uri": "https://localhost:8080/",
          "height": 461
        },
        "id": "d-X5HzFyyyyU",
        "outputId": "c0d8c97a-c83f-4b02-b371-5bcb7d669fe3"
      },
      "execution_count": 75,
      "outputs": [
        {
          "output_type": "stream",
          "name": "stderr",
          "text": [
            "INFO:fbprophet:Disabling yearly seasonality. Run prophet with yearly_seasonality=True to override this.\n"
          ]
        },
        {
          "output_type": "execute_result",
          "data": {
            "text/plain": [
              "                   ds      trend  yhat_lower  yhat_upper  trend_lower  \\\n",
              "0 2010-09-01 00:00:00  37.069420  -79.445165  170.265440    37.069420   \n",
              "1 2010-09-01 01:00:00  37.021443  -82.369895  167.281835    37.021443   \n",
              "2 2010-09-01 02:00:00  36.973466  -84.267723  168.262319    36.973466   \n",
              "3 2010-09-01 03:00:00  36.925489  -93.792163  163.418583    36.925489   \n",
              "4 2010-09-01 04:00:00  36.877512  -91.806577  158.296678    36.877512   \n",
              "\n",
              "   trend_upper  additive_terms  additive_terms_lower  additive_terms_upper  \\\n",
              "0    37.069420        7.708134              7.708134              7.708134   \n",
              "1    37.021443        6.711959              6.711959              6.711959   \n",
              "2    36.973466        3.175200              3.175200              3.175200   \n",
              "3    36.925489       -0.803914             -0.803914             -0.803914   \n",
              "4    36.877512       -3.288212             -3.288212             -3.288212   \n",
              "\n",
              "       daily  daily_lower  daily_upper     weekly  weekly_lower  weekly_upper  \\\n",
              "0   0.310292     0.310292     0.310292   7.397842      7.397842      7.397842   \n",
              "1  -1.572262    -1.572262    -1.572262   8.284221      8.284221      8.284221   \n",
              "2  -5.994929    -5.994929    -5.994929   9.170129      9.170129      9.170129   \n",
              "3 -10.849093   -10.849093   -10.849093  10.045180     10.045180     10.045180   \n",
              "4 -14.187172   -14.187172   -14.187172  10.898960     10.898960     10.898960   \n",
              "\n",
              "   multiplicative_terms  multiplicative_terms_lower  \\\n",
              "0                   0.0                         0.0   \n",
              "1                   0.0                         0.0   \n",
              "2                   0.0                         0.0   \n",
              "3                   0.0                         0.0   \n",
              "4                   0.0                         0.0   \n",
              "\n",
              "   multiplicative_terms_upper       yhat  \n",
              "0                         0.0  44.777554  \n",
              "1                         0.0  43.733402  \n",
              "2                         0.0  40.148666  \n",
              "3                         0.0  36.121575  \n",
              "4                         0.0  33.589300  "
            ],
            "text/html": [
              "\n",
              "  <div id=\"df-d946022f-851f-4703-a6f4-916b12c21dcd\">\n",
              "    <div class=\"colab-df-container\">\n",
              "      <div>\n",
              "<style scoped>\n",
              "    .dataframe tbody tr th:only-of-type {\n",
              "        vertical-align: middle;\n",
              "    }\n",
              "\n",
              "    .dataframe tbody tr th {\n",
              "        vertical-align: top;\n",
              "    }\n",
              "\n",
              "    .dataframe thead th {\n",
              "        text-align: right;\n",
              "    }\n",
              "</style>\n",
              "<table border=\"1\" class=\"dataframe\">\n",
              "  <thead>\n",
              "    <tr style=\"text-align: right;\">\n",
              "      <th></th>\n",
              "      <th>ds</th>\n",
              "      <th>trend</th>\n",
              "      <th>yhat_lower</th>\n",
              "      <th>yhat_upper</th>\n",
              "      <th>trend_lower</th>\n",
              "      <th>trend_upper</th>\n",
              "      <th>additive_terms</th>\n",
              "      <th>additive_terms_lower</th>\n",
              "      <th>additive_terms_upper</th>\n",
              "      <th>daily</th>\n",
              "      <th>daily_lower</th>\n",
              "      <th>daily_upper</th>\n",
              "      <th>weekly</th>\n",
              "      <th>weekly_lower</th>\n",
              "      <th>weekly_upper</th>\n",
              "      <th>multiplicative_terms</th>\n",
              "      <th>multiplicative_terms_lower</th>\n",
              "      <th>multiplicative_terms_upper</th>\n",
              "      <th>yhat</th>\n",
              "    </tr>\n",
              "  </thead>\n",
              "  <tbody>\n",
              "    <tr>\n",
              "      <th>0</th>\n",
              "      <td>2010-09-01 00:00:00</td>\n",
              "      <td>37.069420</td>\n",
              "      <td>-79.445165</td>\n",
              "      <td>170.265440</td>\n",
              "      <td>37.069420</td>\n",
              "      <td>37.069420</td>\n",
              "      <td>7.708134</td>\n",
              "      <td>7.708134</td>\n",
              "      <td>7.708134</td>\n",
              "      <td>0.310292</td>\n",
              "      <td>0.310292</td>\n",
              "      <td>0.310292</td>\n",
              "      <td>7.397842</td>\n",
              "      <td>7.397842</td>\n",
              "      <td>7.397842</td>\n",
              "      <td>0.0</td>\n",
              "      <td>0.0</td>\n",
              "      <td>0.0</td>\n",
              "      <td>44.777554</td>\n",
              "    </tr>\n",
              "    <tr>\n",
              "      <th>1</th>\n",
              "      <td>2010-09-01 01:00:00</td>\n",
              "      <td>37.021443</td>\n",
              "      <td>-82.369895</td>\n",
              "      <td>167.281835</td>\n",
              "      <td>37.021443</td>\n",
              "      <td>37.021443</td>\n",
              "      <td>6.711959</td>\n",
              "      <td>6.711959</td>\n",
              "      <td>6.711959</td>\n",
              "      <td>-1.572262</td>\n",
              "      <td>-1.572262</td>\n",
              "      <td>-1.572262</td>\n",
              "      <td>8.284221</td>\n",
              "      <td>8.284221</td>\n",
              "      <td>8.284221</td>\n",
              "      <td>0.0</td>\n",
              "      <td>0.0</td>\n",
              "      <td>0.0</td>\n",
              "      <td>43.733402</td>\n",
              "    </tr>\n",
              "    <tr>\n",
              "      <th>2</th>\n",
              "      <td>2010-09-01 02:00:00</td>\n",
              "      <td>36.973466</td>\n",
              "      <td>-84.267723</td>\n",
              "      <td>168.262319</td>\n",
              "      <td>36.973466</td>\n",
              "      <td>36.973466</td>\n",
              "      <td>3.175200</td>\n",
              "      <td>3.175200</td>\n",
              "      <td>3.175200</td>\n",
              "      <td>-5.994929</td>\n",
              "      <td>-5.994929</td>\n",
              "      <td>-5.994929</td>\n",
              "      <td>9.170129</td>\n",
              "      <td>9.170129</td>\n",
              "      <td>9.170129</td>\n",
              "      <td>0.0</td>\n",
              "      <td>0.0</td>\n",
              "      <td>0.0</td>\n",
              "      <td>40.148666</td>\n",
              "    </tr>\n",
              "    <tr>\n",
              "      <th>3</th>\n",
              "      <td>2010-09-01 03:00:00</td>\n",
              "      <td>36.925489</td>\n",
              "      <td>-93.792163</td>\n",
              "      <td>163.418583</td>\n",
              "      <td>36.925489</td>\n",
              "      <td>36.925489</td>\n",
              "      <td>-0.803914</td>\n",
              "      <td>-0.803914</td>\n",
              "      <td>-0.803914</td>\n",
              "      <td>-10.849093</td>\n",
              "      <td>-10.849093</td>\n",
              "      <td>-10.849093</td>\n",
              "      <td>10.045180</td>\n",
              "      <td>10.045180</td>\n",
              "      <td>10.045180</td>\n",
              "      <td>0.0</td>\n",
              "      <td>0.0</td>\n",
              "      <td>0.0</td>\n",
              "      <td>36.121575</td>\n",
              "    </tr>\n",
              "    <tr>\n",
              "      <th>4</th>\n",
              "      <td>2010-09-01 04:00:00</td>\n",
              "      <td>36.877512</td>\n",
              "      <td>-91.806577</td>\n",
              "      <td>158.296678</td>\n",
              "      <td>36.877512</td>\n",
              "      <td>36.877512</td>\n",
              "      <td>-3.288212</td>\n",
              "      <td>-3.288212</td>\n",
              "      <td>-3.288212</td>\n",
              "      <td>-14.187172</td>\n",
              "      <td>-14.187172</td>\n",
              "      <td>-14.187172</td>\n",
              "      <td>10.898960</td>\n",
              "      <td>10.898960</td>\n",
              "      <td>10.898960</td>\n",
              "      <td>0.0</td>\n",
              "      <td>0.0</td>\n",
              "      <td>0.0</td>\n",
              "      <td>33.589300</td>\n",
              "    </tr>\n",
              "  </tbody>\n",
              "</table>\n",
              "</div>\n",
              "      <button class=\"colab-df-convert\" onclick=\"convertToInteractive('df-d946022f-851f-4703-a6f4-916b12c21dcd')\"\n",
              "              title=\"Convert this dataframe to an interactive table.\"\n",
              "              style=\"display:none;\">\n",
              "        \n",
              "  <svg xmlns=\"http://www.w3.org/2000/svg\" height=\"24px\"viewBox=\"0 0 24 24\"\n",
              "       width=\"24px\">\n",
              "    <path d=\"M0 0h24v24H0V0z\" fill=\"none\"/>\n",
              "    <path d=\"M18.56 5.44l.94 2.06.94-2.06 2.06-.94-2.06-.94-.94-2.06-.94 2.06-2.06.94zm-11 1L8.5 8.5l.94-2.06 2.06-.94-2.06-.94L8.5 2.5l-.94 2.06-2.06.94zm10 10l.94 2.06.94-2.06 2.06-.94-2.06-.94-.94-2.06-.94 2.06-2.06.94z\"/><path d=\"M17.41 7.96l-1.37-1.37c-.4-.4-.92-.59-1.43-.59-.52 0-1.04.2-1.43.59L10.3 9.45l-7.72 7.72c-.78.78-.78 2.05 0 2.83L4 21.41c.39.39.9.59 1.41.59.51 0 1.02-.2 1.41-.59l7.78-7.78 2.81-2.81c.8-.78.8-2.07 0-2.86zM5.41 20L4 18.59l7.72-7.72 1.47 1.35L5.41 20z\"/>\n",
              "  </svg>\n",
              "      </button>\n",
              "      \n",
              "  <style>\n",
              "    .colab-df-container {\n",
              "      display:flex;\n",
              "      flex-wrap:wrap;\n",
              "      gap: 12px;\n",
              "    }\n",
              "\n",
              "    .colab-df-convert {\n",
              "      background-color: #E8F0FE;\n",
              "      border: none;\n",
              "      border-radius: 50%;\n",
              "      cursor: pointer;\n",
              "      display: none;\n",
              "      fill: #1967D2;\n",
              "      height: 32px;\n",
              "      padding: 0 0 0 0;\n",
              "      width: 32px;\n",
              "    }\n",
              "\n",
              "    .colab-df-convert:hover {\n",
              "      background-color: #E2EBFA;\n",
              "      box-shadow: 0px 1px 2px rgba(60, 64, 67, 0.3), 0px 1px 3px 1px rgba(60, 64, 67, 0.15);\n",
              "      fill: #174EA6;\n",
              "    }\n",
              "\n",
              "    [theme=dark] .colab-df-convert {\n",
              "      background-color: #3B4455;\n",
              "      fill: #D2E3FC;\n",
              "    }\n",
              "\n",
              "    [theme=dark] .colab-df-convert:hover {\n",
              "      background-color: #434B5C;\n",
              "      box-shadow: 0px 1px 3px 1px rgba(0, 0, 0, 0.15);\n",
              "      filter: drop-shadow(0px 1px 2px rgba(0, 0, 0, 0.3));\n",
              "      fill: #FFFFFF;\n",
              "    }\n",
              "  </style>\n",
              "\n",
              "      <script>\n",
              "        const buttonEl =\n",
              "          document.querySelector('#df-d946022f-851f-4703-a6f4-916b12c21dcd button.colab-df-convert');\n",
              "        buttonEl.style.display =\n",
              "          google.colab.kernel.accessAllowed ? 'block' : 'none';\n",
              "\n",
              "        async function convertToInteractive(key) {\n",
              "          const element = document.querySelector('#df-d946022f-851f-4703-a6f4-916b12c21dcd');\n",
              "          const dataTable =\n",
              "            await google.colab.kernel.invokeFunction('convertToInteractive',\n",
              "                                                     [key], {});\n",
              "          if (!dataTable) return;\n",
              "\n",
              "          const docLinkHtml = 'Like what you see? Visit the ' +\n",
              "            '<a target=\"_blank\" href=https://colab.research.google.com/notebooks/data_table.ipynb>data table notebook</a>'\n",
              "            + ' to learn more about interactive tables.';\n",
              "          element.innerHTML = '';\n",
              "          dataTable['output_type'] = 'display_data';\n",
              "          await google.colab.output.renderOutput(dataTable, element);\n",
              "          const docLink = document.createElement('div');\n",
              "          docLink.innerHTML = docLinkHtml;\n",
              "          element.appendChild(docLink);\n",
              "        }\n",
              "      </script>\n",
              "    </div>\n",
              "  </div>\n",
              "  "
            ]
          },
          "metadata": {},
          "execution_count": 75
        }
      ]
    },
    {
      "cell_type": "code",
      "source": [
        "y_true = test['y']\n",
        "ypred = forecast['yhat']\n",
        "# Mape\n",
        "mape = mean_absolute_percentage_error(y_true, ypred)\n",
        "print(f'{round(mape,2)}%')"
      ],
      "metadata": {
        "id": "jJPLpv9c_zfM"
      },
      "execution_count": 80,
      "outputs": []
    },
    {
      "cell_type": "markdown",
      "source": [
        "**Q15:RMSE**"
      ],
      "metadata": {
        "id": "sQvXNjjiFlbh"
      }
    },
    {
      "cell_type": "code",
      "source": [
        "rmse = np.sqrt(mean_squared_error(y_true, ypred))\n",
        "print(round(rmse, 2))"
      ],
      "metadata": {
        "id": "VQrBtP8rFk1q"
      },
      "execution_count": null,
      "outputs": []
    },
    {
      "cell_type": "markdown",
      "source": [
        "**Q16**: plot the components from the forecasted model"
      ],
      "metadata": {
        "id": "kKukXKmV7rO3"
      }
    },
    {
      "cell_type": "code",
      "source": [
        "forecast[[ 'ds' , 'yhat' , 'yhat_lower' , 'yhat_upper' , 'trend' , 'trend_lower' , 'trend_upper' ]]\n",
        "'''yhat is the prediction while yhat_lower and yhat_upper are the upper and lower boundaries'''\n",
        "model.plot(forecast)\n",
        "plt.show()"
      ],
      "metadata": {
        "colab": {
          "base_uri": "https://localhost:8080/",
          "height": 391
        },
        "id": "jAUIVH1J5ely",
        "outputId": "65cf45b2-e098-4648-d096-54a680dbed2a"
      },
      "execution_count": 76,
      "outputs": [
        {
          "output_type": "display_data",
          "data": {
            "text/plain": [
              "<Figure size 720x432 with 1 Axes>"
            ],
            "image/png": "[encoded data removed]"
          },
          "metadata": {}
        }
      ]
    },
    {
      "cell_type": "code",
      "source": [
        "fig1 = model.plot_components(forecast)"
      ],
      "metadata": {
        "colab": {
          "base_uri": "https://localhost:8080/",
          "height": 646
        },
        "id": "tSl5DWwk8B2P",
        "outputId": "afa56d28-9817-442a-964c-161c76ed6c0d"
      },
      "execution_count": 77,
      "outputs": [
        {
          "output_type": "display_data",
          "data": {
            "text/plain": [
              "<Figure size 648x648 with 3 Axes>"
            ],
            "image/png": "[encoded data removed]"
          },
          "metadata": {}
        }
      ]
    },
    {
      "cell_type": "markdown",
      "source": [
        "### **Q17 - Q19**"
      ],
      "metadata": {
        "id": "zWRAJ69qE4RU"
      }
    },
    {
      "cell_type": "code",
      "source": [
        "path = '/content/drive/MyDrive/Internship/Homoye/Stage E/dataset/Time_series_analysis_and_forecast_DATASET.csv'\n",
        "df1 = pd.read_csv(path)\n",
        "df1 = df1.rename(columns={'FullDate':'ds', 'ElecPrice': 'y'})\n",
        "train = df1.iloc[:2757, :]\n",
        "test = df1.iloc[2757:, :]\n",
        "model1 = Prophet()\n",
        "model1.fit(train)"
      ],
      "metadata": {
        "id": "dD2xB0GFCIz1",
        "colab": {
          "base_uri": "https://localhost:8080/"
        },
        "outputId": "65039fbe-eed2-487c-c88a-b3324b8917ec"
      },
      "execution_count": 83,
      "outputs": [
        {
          "output_type": "stream",
          "name": "stderr",
          "text": [
            "INFO:fbprophet:Disabling yearly seasonality. Run prophet with yearly_seasonality=True to override this.\n"
          ]
        },
        {
          "output_type": "execute_result",
          "data": {
            "text/plain": [
              "<fbprophet.forecaster.Prophet at 0x7f3babdaeb90>"
            ]
          },
          "metadata": {},
          "execution_count": 83
        }
      ]
    },
    {
      "cell_type": "code",
      "source": [
        "#predict for the next 10 months\n",
        "future1 = model.make_future_dataframe(periods= 10 , freq= 'M' )\n",
        "forecast1 = model.predict(future1)\n",
        "forecast1.head()"
      ],
      "metadata": {
        "id": "13-I47VTCiyS",
        "colab": {
          "base_uri": "https://localhost:8080/",
          "height": 443
        },
        "outputId": "bc86238f-ce8b-44c2-f9b9-4f92285af058"
      },
      "execution_count": 84,
      "outputs": [
        {
          "output_type": "execute_result",
          "data": {
            "text/plain": [
              "                   ds      trend  yhat_lower  yhat_upper  trend_lower  \\\n",
              "0 2010-09-01 00:00:00  37.069420  -91.685865  171.957852    37.069420   \n",
              "1 2010-09-01 01:00:00  37.021443  -83.512848  169.705731    37.021443   \n",
              "2 2010-09-01 02:00:00  36.973466  -80.771284  154.458006    36.973466   \n",
              "3 2010-09-01 03:00:00  36.925489  -90.211454  164.549719    36.925489   \n",
              "4 2010-09-01 04:00:00  36.877512  -91.533085  165.367480    36.877512   \n",
              "\n",
              "   trend_upper  additive_terms  additive_terms_lower  additive_terms_upper  \\\n",
              "0    37.069420        7.708134              7.708134              7.708134   \n",
              "1    37.021443        6.711959              6.711959              6.711959   \n",
              "2    36.973466        3.175200              3.175200              3.175200   \n",
              "3    36.925489       -0.803914             -0.803914             -0.803914   \n",
              "4    36.877512       -3.288212             -3.288212             -3.288212   \n",
              "\n",
              "       daily  daily_lower  daily_upper     weekly  weekly_lower  weekly_upper  \\\n",
              "0   0.310292     0.310292     0.310292   7.397842      7.397842      7.397842   \n",
              "1  -1.572262    -1.572262    -1.572262   8.284221      8.284221      8.284221   \n",
              "2  -5.994929    -5.994929    -5.994929   9.170129      9.170129      9.170129   \n",
              "3 -10.849093   -10.849093   -10.849093  10.045180     10.045180     10.045180   \n",
              "4 -14.187172   -14.187172   -14.187172  10.898960     10.898960     10.898960   \n",
              "\n",
              "   multiplicative_terms  multiplicative_terms_lower  \\\n",
              "0                   0.0                         0.0   \n",
              "1                   0.0                         0.0   \n",
              "2                   0.0                         0.0   \n",
              "3                   0.0                         0.0   \n",
              "4                   0.0                         0.0   \n",
              "\n",
              "   multiplicative_terms_upper       yhat  \n",
              "0                         0.0  44.777554  \n",
              "1                         0.0  43.733402  \n",
              "2                         0.0  40.148666  \n",
              "3                         0.0  36.121575  \n",
              "4                         0.0  33.589300  "
            ],
            "text/html": [
              "\n",
              "  <div id=\"df-5c285bf6-f121-49b5-bb03-37ef098b5359\">\n",
              "    <div class=\"colab-df-container\">\n",
              "      <div>\n",
              "<style scoped>\n",
              "    .dataframe tbody tr th:only-of-type {\n",
              "        vertical-align: middle;\n",
              "    }\n",
              "\n",
              "    .dataframe tbody tr th {\n",
              "        vertical-align: top;\n",
              "    }\n",
              "\n",
              "    .dataframe thead th {\n",
              "        text-align: right;\n",
              "    }\n",
              "</style>\n",
              "<table border=\"1\" class=\"dataframe\">\n",
              "  <thead>\n",
              "    <tr style=\"text-align: right;\">\n",
              "      <th></th>\n",
              "      <th>ds</th>\n",
              "      <th>trend</th>\n",
              "      <th>yhat_lower</th>\n",
              "      <th>yhat_upper</th>\n",
              "      <th>trend_lower</th>\n",
              "      <th>trend_upper</th>\n",
              "      <th>additive_terms</th>\n",
              "      <th>additive_terms_lower</th>\n",
              "      <th>additive_terms_upper</th>\n",
              "      <th>daily</th>\n",
              "      <th>daily_lower</th>\n",
              "      <th>daily_upper</th>\n",
              "      <th>weekly</th>\n",
              "      <th>weekly_lower</th>\n",
              "      <th>weekly_upper</th>\n",
              "      <th>multiplicative_terms</th>\n",
              "      <th>multiplicative_terms_lower</th>\n",
              "      <th>multiplicative_terms_upper</th>\n",
              "      <th>yhat</th>\n",
              "    </tr>\n",
              "  </thead>\n",
              "  <tbody>\n",
              "    <tr>\n",
              "      <th>0</th>\n",
              "      <td>2010-09-01 00:00:00</td>\n",
              "      <td>37.069420</td>\n",
              "      <td>-91.685865</td>\n",
              "      <td>171.957852</td>\n",
              "      <td>37.069420</td>\n",
              "      <td>37.069420</td>\n",
              "      <td>7.708134</td>\n",
              "      <td>7.708134</td>\n",
              "      <td>7.708134</td>\n",
              "      <td>0.310292</td>\n",
              "      <td>0.310292</td>\n",
              "      <td>0.310292</td>\n",
              "      <td>7.397842</td>\n",
              "      <td>7.397842</td>\n",
              "      <td>7.397842</td>\n",
              "      <td>0.0</td>\n",
              "      <td>0.0</td>\n",
              "      <td>0.0</td>\n",
              "      <td>44.777554</td>\n",
              "    </tr>\n",
              "    <tr>\n",
              "      <th>1</th>\n",
              "      <td>2010-09-01 01:00:00</td>\n",
              "      <td>37.021443</td>\n",
              "      <td>-83.512848</td>\n",
              "      <td>169.705731</td>\n",
              "      <td>37.021443</td>\n",
              "      <td>37.021443</td>\n",
              "      <td>6.711959</td>\n",
              "      <td>6.711959</td>\n",
              "      <td>6.711959</td>\n",
              "      <td>-1.572262</td>\n",
              "      <td>-1.572262</td>\n",
              "      <td>-1.572262</td>\n",
              "      <td>8.284221</td>\n",
              "      <td>8.284221</td>\n",
              "      <td>8.284221</td>\n",
              "      <td>0.0</td>\n",
              "      <td>0.0</td>\n",
              "      <td>0.0</td>\n",
              "      <td>43.733402</td>\n",
              "    </tr>\n",
              "    <tr>\n",
              "      <th>2</th>\n",
              "      <td>2010-09-01 02:00:00</td>\n",
              "      <td>36.973466</td>\n",
              "      <td>-80.771284</td>\n",
              "      <td>154.458006</td>\n",
              "      <td>36.973466</td>\n",
              "      <td>36.973466</td>\n",
              "      <td>3.175200</td>\n",
              "      <td>3.175200</td>\n",
              "      <td>3.175200</td>\n",
              "      <td>-5.994929</td>\n",
              "      <td>-5.994929</td>\n",
              "      <td>-5.994929</td>\n",
              "      <td>9.170129</td>\n",
              "      <td>9.170129</td>\n",
              "      <td>9.170129</td>\n",
              "      <td>0.0</td>\n",
              "      <td>0.0</td>\n",
              "      <td>0.0</td>\n",
              "      <td>40.148666</td>\n",
              "    </tr>\n",
              "    <tr>\n",
              "      <th>3</th>\n",
              "      <td>2010-09-01 03:00:00</td>\n",
              "      <td>36.925489</td>\n",
              "      <td>-90.211454</td>\n",
              "      <td>164.549719</td>\n",
              "      <td>36.925489</td>\n",
              "      <td>36.925489</td>\n",
              "      <td>-0.803914</td>\n",
              "      <td>-0.803914</td>\n",
              "      <td>-0.803914</td>\n",
              "      <td>-10.849093</td>\n",
              "      <td>-10.849093</td>\n",
              "      <td>-10.849093</td>\n",
              "      <td>10.045180</td>\n",
              "      <td>10.045180</td>\n",
              "      <td>10.045180</td>\n",
              "      <td>0.0</td>\n",
              "      <td>0.0</td>\n",
              "      <td>0.0</td>\n",
              "      <td>36.121575</td>\n",
              "    </tr>\n",
              "    <tr>\n",
              "      <th>4</th>\n",
              "      <td>2010-09-01 04:00:00</td>\n",
              "      <td>36.877512</td>\n",
              "      <td>-91.533085</td>\n",
              "      <td>165.367480</td>\n",
              "      <td>36.877512</td>\n",
              "      <td>36.877512</td>\n",
              "      <td>-3.288212</td>\n",
              "      <td>-3.288212</td>\n",
              "      <td>-3.288212</td>\n",
              "      <td>-14.187172</td>\n",
              "      <td>-14.187172</td>\n",
              "      <td>-14.187172</td>\n",
              "      <td>10.898960</td>\n",
              "      <td>10.898960</td>\n",
              "      <td>10.898960</td>\n",
              "      <td>0.0</td>\n",
              "      <td>0.0</td>\n",
              "      <td>0.0</td>\n",
              "      <td>33.589300</td>\n",
              "    </tr>\n",
              "  </tbody>\n",
              "</table>\n",
              "</div>\n",
              "      <button class=\"colab-df-convert\" onclick=\"convertToInteractive('df-5c285bf6-f121-49b5-bb03-37ef098b5359')\"\n",
              "              title=\"Convert this dataframe to an interactive table.\"\n",
              "              style=\"display:none;\">\n",
              "        \n",
              "  <svg xmlns=\"http://www.w3.org/2000/svg\" height=\"24px\"viewBox=\"0 0 24 24\"\n",
              "       width=\"24px\">\n",
              "    <path d=\"M0 0h24v24H0V0z\" fill=\"none\"/>\n",
              "    <path d=\"M18.56 5.44l.94 2.06.94-2.06 2.06-.94-2.06-.94-.94-2.06-.94 2.06-2.06.94zm-11 1L8.5 8.5l.94-2.06 2.06-.94-2.06-.94L8.5 2.5l-.94 2.06-2.06.94zm10 10l.94 2.06.94-2.06 2.06-.94-2.06-.94-.94-2.06-.94 2.06-2.06.94z\"/><path d=\"M17.41 7.96l-1.37-1.37c-.4-.4-.92-.59-1.43-.59-.52 0-1.04.2-1.43.59L10.3 9.45l-7.72 7.72c-.78.78-.78 2.05 0 2.83L4 21.41c.39.39.9.59 1.41.59.51 0 1.02-.2 1.41-.59l7.78-7.78 2.81-2.81c.8-.78.8-2.07 0-2.86zM5.41 20L4 18.59l7.72-7.72 1.47 1.35L5.41 20z\"/>\n",
              "  </svg>\n",
              "      </button>\n",
              "      \n",
              "  <style>\n",
              "    .colab-df-container {\n",
              "      display:flex;\n",
              "      flex-wrap:wrap;\n",
              "      gap: 12px;\n",
              "    }\n",
              "\n",
              "    .colab-df-convert {\n",
              "      background-color: #E8F0FE;\n",
              "      border: none;\n",
              "      border-radius: 50%;\n",
              "      cursor: pointer;\n",
              "      display: none;\n",
              "      fill: #1967D2;\n",
              "      height: 32px;\n",
              "      padding: 0 0 0 0;\n",
              "      width: 32px;\n",
              "    }\n",
              "\n",
              "    .colab-df-convert:hover {\n",
              "      background-color: #E2EBFA;\n",
              "      box-shadow: 0px 1px 2px rgba(60, 64, 67, 0.3), 0px 1px 3px 1px rgba(60, 64, 67, 0.15);\n",
              "      fill: #174EA6;\n",
              "    }\n",
              "\n",
              "    [theme=dark] .colab-df-convert {\n",
              "      background-color: #3B4455;\n",
              "      fill: #D2E3FC;\n",
              "    }\n",
              "\n",
              "    [theme=dark] .colab-df-convert:hover {\n",
              "      background-color: #434B5C;\n",
              "      box-shadow: 0px 1px 3px 1px rgba(0, 0, 0, 0.15);\n",
              "      filter: drop-shadow(0px 1px 2px rgba(0, 0, 0, 0.3));\n",
              "      fill: #FFFFFF;\n",
              "    }\n",
              "  </style>\n",
              "\n",
              "      <script>\n",
              "        const buttonEl =\n",
              "          document.querySelector('#df-5c285bf6-f121-49b5-bb03-37ef098b5359 button.colab-df-convert');\n",
              "        buttonEl.style.display =\n",
              "          google.colab.kernel.accessAllowed ? 'block' : 'none';\n",
              "\n",
              "        async function convertToInteractive(key) {\n",
              "          const element = document.querySelector('#df-5c285bf6-f121-49b5-bb03-37ef098b5359');\n",
              "          const dataTable =\n",
              "            await google.colab.kernel.invokeFunction('convertToInteractive',\n",
              "                                                     [key], {});\n",
              "          if (!dataTable) return;\n",
              "\n",
              "          const docLinkHtml = 'Like what you see? Visit the ' +\n",
              "            '<a target=\"_blank\" href=https://colab.research.google.com/notebooks/data_table.ipynb>data table notebook</a>'\n",
              "            + ' to learn more about interactive tables.';\n",
              "          element.innerHTML = '';\n",
              "          dataTable['output_type'] = 'display_data';\n",
              "          await google.colab.output.renderOutput(dataTable, element);\n",
              "          const docLink = document.createElement('div');\n",
              "          docLink.innerHTML = docLinkHtml;\n",
              "          element.appendChild(docLink);\n",
              "        }\n",
              "      </script>\n",
              "    </div>\n",
              "  </div>\n",
              "  "
            ]
          },
          "metadata": {},
          "execution_count": 84
        }
      ]
    },
    {
      "cell_type": "code",
      "source": [
        "forecast[[ 'ds' , 'yhat' , 'yhat_lower' , 'yhat_upper' , 'trend' , 'trend_lower' , 'trend_upper' ]]\n",
        "model.plot(forecast)\n",
        "plt.show()"
      ],
      "metadata": {
        "id": "vKuUZkVXClpf",
        "colab": {
          "base_uri": "https://localhost:8080/",
          "height": 391
        },
        "outputId": "e02d4712-daa2-4165-ddb8-49104b296e53"
      },
      "execution_count": 85,
      "outputs": [
        {
          "output_type": "display_data",
          "data": {
            "text/plain": [
              "<Figure size 720x432 with 1 Axes>"
            ],
            "image/png": "[encoded data removed]"
          },
          "metadata": {}
        }
      ]
    },
    {
      "cell_type": "code",
      "source": [
        "fig = model1.plot_components(forecast1)"
      ],
      "metadata": {
        "colab": {
          "base_uri": "https://localhost:8080/",
          "height": 646
        },
        "id": "W3Wd4TtgIu9t",
        "outputId": "848eb047-28e7-4d61-d296-63023e3a3b63"
      },
      "execution_count": 87,
      "outputs": [
        {
          "output_type": "display_data",
          "data": {
            "text/plain": [
              "<Figure size 648x648 with 3 Axes>"
            ],
            "image/png": "[encoded data removed]"
          },
          "metadata": {}
        }
      ]
    },
    {
      "cell_type": "markdown",
      "source": [
        "**Wednesday** has highest value of daily seasonality."
      ],
      "metadata": {
        "id": "pzVa8cVfI8vl"
      }
    },
    {
      "cell_type": "code",
      "source": [
        ""
      ],
      "metadata": {
        "id": "LLCVXcJoIrAT"
      },
      "execution_count": null,
      "outputs": []
    }
  ]
}
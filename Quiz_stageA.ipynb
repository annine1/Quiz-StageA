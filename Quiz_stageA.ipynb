{
  "nbformat": 4,
  "nbformat_minor": 0,
  "metadata": {
    "colab": {
      "name": "Quiz_stageA.ipynb",
      "provenance": [],
      "mount_file_id": "1hmYfRp1cfdZ2PdvLaUc8D_GLzG1c_nyb",
      "authorship_tag": "ABX9TyMQ7EWuCc7LczeQdLYMfZ4T",
      "include_colab_link": true
    },
    "kernelspec": {
      "name": "python3",
      "display_name": "Python 3"
    },
    "language_info": {
      "name": "python"
    }
  },
  "cells": [
    {
      "cell_type": "markdown",
      "metadata": {
        "id": "view-in-github",
        "colab_type": "text"
      },
      "source": [
        "<a href=\"https://colab.research.google.com/github/annine1/Quiz-StageA/blob/main/Quiz_stageA.ipynb\" target=\"_parent\"><img src=\"https://colab.research.google.com/assets/colab-badge.svg\" alt=\"Open In Colab\"/></a>"
      ]
    },
    {
      "cell_type": "markdown",
      "source": [
        "###<center> Stage A: Quiz\n",
        "#### <center> ID: 147c5bd2f901f000"
      ],
      "metadata": {
        "id": "SmdhPX6yfbMn"
      }
    },
    {
      "cell_type": "markdown",
      "source": [
        "### Importing required libraries"
      ],
      "metadata": {
        "id": "DUmLqBP7vPU-"
      }
    },
    {
      "cell_type": "code",
      "source": [
        "import pandas as pd"
      ],
      "metadata": {
        "id": "G8o780o3fv0h"
      },
      "execution_count": 1,
      "outputs": []
    },
    {
      "cell_type": "markdown",
      "source": [
        "### Load dataset"
      ],
      "metadata": {
        "id": "lEpEFWHkvVOf"
      }
    },
    {
      "cell_type": "code",
      "execution_count": 80,
      "metadata": {
        "id": "PehMm7YEfU4I"
      },
      "outputs": [],
      "source": [
        "url = '/content/drive/MyDrive/Internship/Homoye/Stage A/dataset/FoodBalanceSheets_E_Africa_NOFLAG.csv'\n",
        "data = pd.read_csv(url, encoding='latin')"
      ]
    },
    {
      "cell_type": "code",
      "source": [
        "# Check the first five rows\n",
        "data.head()"
      ],
      "metadata": {
        "colab": {
          "base_uri": "https://localhost:8080/",
          "height": 371
        },
        "id": "uDwY4i4PfzxD",
        "outputId": "8d7a8ac4-47af-4f21-d12b-603176ef1477"
      },
      "execution_count": 81,
      "outputs": [
        {
          "output_type": "execute_result",
          "data": {
            "text/html": [
              "\n",
              "  <div id=\"df-b7987954-38a4-40ef-9026-2d5cdb433b96\">\n",
              "    <div class=\"colab-df-container\">\n",
              "      <div>\n",
              "<style scoped>\n",
              "    .dataframe tbody tr th:only-of-type {\n",
              "        vertical-align: middle;\n",
              "    }\n",
              "\n",
              "    .dataframe tbody tr th {\n",
              "        vertical-align: top;\n",
              "    }\n",
              "\n",
              "    .dataframe thead th {\n",
              "        text-align: right;\n",
              "    }\n",
              "</style>\n",
              "<table border=\"1\" class=\"dataframe\">\n",
              "  <thead>\n",
              "    <tr style=\"text-align: right;\">\n",
              "      <th></th>\n",
              "      <th>Area Code</th>\n",
              "      <th>Area</th>\n",
              "      <th>Item Code</th>\n",
              "      <th>Item</th>\n",
              "      <th>Element Code</th>\n",
              "      <th>Element</th>\n",
              "      <th>Unit</th>\n",
              "      <th>Y2014</th>\n",
              "      <th>Y2015</th>\n",
              "      <th>Y2016</th>\n",
              "      <th>Y2017</th>\n",
              "      <th>Y2018</th>\n",
              "    </tr>\n",
              "  </thead>\n",
              "  <tbody>\n",
              "    <tr>\n",
              "      <th>0</th>\n",
              "      <td>4</td>\n",
              "      <td>Algeria</td>\n",
              "      <td>2501</td>\n",
              "      <td>Population</td>\n",
              "      <td>511</td>\n",
              "      <td>Total Population - Both sexes</td>\n",
              "      <td>1000 persons</td>\n",
              "      <td>38924.00</td>\n",
              "      <td>39728.00</td>\n",
              "      <td>40551.00</td>\n",
              "      <td>41389.00</td>\n",
              "      <td>42228.00</td>\n",
              "    </tr>\n",
              "    <tr>\n",
              "      <th>1</th>\n",
              "      <td>4</td>\n",
              "      <td>Algeria</td>\n",
              "      <td>2501</td>\n",
              "      <td>Population</td>\n",
              "      <td>5301</td>\n",
              "      <td>Domestic supply quantity</td>\n",
              "      <td>1000 tonnes</td>\n",
              "      <td>0.00</td>\n",
              "      <td>0.00</td>\n",
              "      <td>0.00</td>\n",
              "      <td>0.00</td>\n",
              "      <td>0.00</td>\n",
              "    </tr>\n",
              "    <tr>\n",
              "      <th>2</th>\n",
              "      <td>4</td>\n",
              "      <td>Algeria</td>\n",
              "      <td>2901</td>\n",
              "      <td>Grand Total</td>\n",
              "      <td>664</td>\n",
              "      <td>Food supply (kcal/capita/day)</td>\n",
              "      <td>kcal/capita/day</td>\n",
              "      <td>3377.00</td>\n",
              "      <td>3379.00</td>\n",
              "      <td>3372.00</td>\n",
              "      <td>3341.00</td>\n",
              "      <td>3322.00</td>\n",
              "    </tr>\n",
              "    <tr>\n",
              "      <th>3</th>\n",
              "      <td>4</td>\n",
              "      <td>Algeria</td>\n",
              "      <td>2901</td>\n",
              "      <td>Grand Total</td>\n",
              "      <td>674</td>\n",
              "      <td>Protein supply quantity (g/capita/day)</td>\n",
              "      <td>g/capita/day</td>\n",
              "      <td>94.90</td>\n",
              "      <td>94.35</td>\n",
              "      <td>94.72</td>\n",
              "      <td>92.82</td>\n",
              "      <td>91.83</td>\n",
              "    </tr>\n",
              "    <tr>\n",
              "      <th>4</th>\n",
              "      <td>4</td>\n",
              "      <td>Algeria</td>\n",
              "      <td>2901</td>\n",
              "      <td>Grand Total</td>\n",
              "      <td>684</td>\n",
              "      <td>Fat supply quantity (g/capita/day)</td>\n",
              "      <td>g/capita/day</td>\n",
              "      <td>80.06</td>\n",
              "      <td>79.36</td>\n",
              "      <td>77.40</td>\n",
              "      <td>80.19</td>\n",
              "      <td>77.28</td>\n",
              "    </tr>\n",
              "  </tbody>\n",
              "</table>\n",
              "</div>\n",
              "      <button class=\"colab-df-convert\" onclick=\"convertToInteractive('df-b7987954-38a4-40ef-9026-2d5cdb433b96')\"\n",
              "              title=\"Convert this dataframe to an interactive table.\"\n",
              "              style=\"display:none;\">\n",
              "        \n",
              "  <svg xmlns=\"http://www.w3.org/2000/svg\" height=\"24px\"viewBox=\"0 0 24 24\"\n",
              "       width=\"24px\">\n",
              "    <path d=\"M0 0h24v24H0V0z\" fill=\"none\"/>\n",
              "    <path d=\"M18.56 5.44l.94 2.06.94-2.06 2.06-.94-2.06-.94-.94-2.06-.94 2.06-2.06.94zm-11 1L8.5 8.5l.94-2.06 2.06-.94-2.06-.94L8.5 2.5l-.94 2.06-2.06.94zm10 10l.94 2.06.94-2.06 2.06-.94-2.06-.94-.94-2.06-.94 2.06-2.06.94z\"/><path d=\"M17.41 7.96l-1.37-1.37c-.4-.4-.92-.59-1.43-.59-.52 0-1.04.2-1.43.59L10.3 9.45l-7.72 7.72c-.78.78-.78 2.05 0 2.83L4 21.41c.39.39.9.59 1.41.59.51 0 1.02-.2 1.41-.59l7.78-7.78 2.81-2.81c.8-.78.8-2.07 0-2.86zM5.41 20L4 18.59l7.72-7.72 1.47 1.35L5.41 20z\"/>\n",
              "  </svg>\n",
              "      </button>\n",
              "      \n",
              "  <style>\n",
              "    .colab-df-container {\n",
              "      display:flex;\n",
              "      flex-wrap:wrap;\n",
              "      gap: 12px;\n",
              "    }\n",
              "\n",
              "    .colab-df-convert {\n",
              "      background-color: #E8F0FE;\n",
              "      border: none;\n",
              "      border-radius: 50%;\n",
              "      cursor: pointer;\n",
              "      display: none;\n",
              "      fill: #1967D2;\n",
              "      height: 32px;\n",
              "      padding: 0 0 0 0;\n",
              "      width: 32px;\n",
              "    }\n",
              "\n",
              "    .colab-df-convert:hover {\n",
              "      background-color: #E2EBFA;\n",
              "      box-shadow: 0px 1px 2px rgba(60, 64, 67, 0.3), 0px 1px 3px 1px rgba(60, 64, 67, 0.15);\n",
              "      fill: #174EA6;\n",
              "    }\n",
              "\n",
              "    [theme=dark] .colab-df-convert {\n",
              "      background-color: #3B4455;\n",
              "      fill: #D2E3FC;\n",
              "    }\n",
              "\n",
              "    [theme=dark] .colab-df-convert:hover {\n",
              "      background-color: #434B5C;\n",
              "      box-shadow: 0px 1px 3px 1px rgba(0, 0, 0, 0.15);\n",
              "      filter: drop-shadow(0px 1px 2px rgba(0, 0, 0, 0.3));\n",
              "      fill: #FFFFFF;\n",
              "    }\n",
              "  </style>\n",
              "\n",
              "      <script>\n",
              "        const buttonEl =\n",
              "          document.querySelector('#df-b7987954-38a4-40ef-9026-2d5cdb433b96 button.colab-df-convert');\n",
              "        buttonEl.style.display =\n",
              "          google.colab.kernel.accessAllowed ? 'block' : 'none';\n",
              "\n",
              "        async function convertToInteractive(key) {\n",
              "          const element = document.querySelector('#df-b7987954-38a4-40ef-9026-2d5cdb433b96');\n",
              "          const dataTable =\n",
              "            await google.colab.kernel.invokeFunction('convertToInteractive',\n",
              "                                                     [key], {});\n",
              "          if (!dataTable) return;\n",
              "\n",
              "          const docLinkHtml = 'Like what you see? Visit the ' +\n",
              "            '<a target=\"_blank\" href=https://colab.research.google.com/notebooks/data_table.ipynb>data table notebook</a>'\n",
              "            + ' to learn more about interactive tables.';\n",
              "          element.innerHTML = '';\n",
              "          dataTable['output_type'] = 'display_data';\n",
              "          await google.colab.output.renderOutput(dataTable, element);\n",
              "          const docLink = document.createElement('div');\n",
              "          docLink.innerHTML = docLinkHtml;\n",
              "          element.appendChild(docLink);\n",
              "        }\n",
              "      </script>\n",
              "    </div>\n",
              "  </div>\n",
              "  "
            ],
            "text/plain": [
              "   Area Code     Area  Item Code  ...     Y2016     Y2017     Y2018\n",
              "0          4  Algeria       2501  ...  40551.00  41389.00  42228.00\n",
              "1          4  Algeria       2501  ...      0.00      0.00      0.00\n",
              "2          4  Algeria       2901  ...   3372.00   3341.00   3322.00\n",
              "3          4  Algeria       2901  ...     94.72     92.82     91.83\n",
              "4          4  Algeria       2901  ...     77.40     80.19     77.28\n",
              "\n",
              "[5 rows x 12 columns]"
            ]
          },
          "metadata": {},
          "execution_count": 81
        }
      ]
    },
    {
      "cell_type": "code",
      "source": [
        "data1=data.copy()"
      ],
      "metadata": {
        "id": "ipIZqO7DJnse"
      },
      "execution_count": 82,
      "outputs": []
    },
    {
      "cell_type": "code",
      "source": [
        "# shape of data\n",
        "data.shape"
      ],
      "metadata": {
        "colab": {
          "base_uri": "https://localhost:8080/"
        },
        "id": "0UZGPBcOvglK",
        "outputId": "c7d37fa0-b7e2-4090-e110-da5ae7d75d8b"
      },
      "execution_count": 7,
      "outputs": [
        {
          "output_type": "execute_result",
          "data": {
            "text/plain": [
              "(60943, 12)"
            ]
          },
          "metadata": {},
          "execution_count": 7
        }
      ]
    },
    {
      "cell_type": "markdown",
      "source": [
        "The dataset contains 60943 rows and 12 columns."
      ],
      "metadata": {
        "id": "9hfOcpOE-3zv"
      }
    },
    {
      "cell_type": "code",
      "source": [
        "# check data info\n",
        "data.info()"
      ],
      "metadata": {
        "colab": {
          "base_uri": "https://localhost:8080/"
        },
        "id": "htU8XYOy32kr",
        "outputId": "de65fde0-3695-475a-ec9c-5d5c123e6bf4"
      },
      "execution_count": 8,
      "outputs": [
        {
          "output_type": "stream",
          "name": "stdout",
          "text": [
            "<class 'pandas.core.frame.DataFrame'>\n",
            "RangeIndex: 60943 entries, 0 to 60942\n",
            "Data columns (total 12 columns):\n",
            " #   Column        Non-Null Count  Dtype  \n",
            "---  ------        --------------  -----  \n",
            " 0   Area Code     60943 non-null  int64  \n",
            " 1   Area          60943 non-null  object \n",
            " 2   Item Code     60943 non-null  int64  \n",
            " 3   Item          60943 non-null  object \n",
            " 4   Element Code  60943 non-null  int64  \n",
            " 5   Element       60943 non-null  object \n",
            " 6   Unit          60943 non-null  object \n",
            " 7   Y2014         59354 non-null  float64\n",
            " 8   Y2015         59395 non-null  float64\n",
            " 9   Y2016         59408 non-null  float64\n",
            " 10  Y2017         59437 non-null  float64\n",
            " 11  Y2018         59507 non-null  float64\n",
            "dtypes: float64(5), int64(3), object(4)\n",
            "memory usage: 5.6+ MB\n"
          ]
        }
      ]
    },
    {
      "cell_type": "code",
      "source": [
        "# Q1\n",
        "lst = [[35, 'Portugal', 94], [33, 'Argentina', 93], [30 , 'Brazil', 92]]\n",
        "\n",
        "col = ['Age','Nationality','Overall']\n",
        "\n",
        "df = pd.DataFrame(lst, columns=col, index=[i for i in range(1,4)] )\n",
        "df"
      ],
      "metadata": {
        "colab": {
          "base_uri": "https://localhost:8080/",
          "height": 143
        },
        "id": "HWxSXzSE37Hj",
        "outputId": "73b4ce72-86b5-4255-f774-e3d429a2cd42"
      },
      "execution_count": 12,
      "outputs": [
        {
          "output_type": "execute_result",
          "data": {
            "text/html": [
              "\n",
              "  <div id=\"df-8d936926-e005-4126-afb6-5e3fd223ba84\">\n",
              "    <div class=\"colab-df-container\">\n",
              "      <div>\n",
              "<style scoped>\n",
              "    .dataframe tbody tr th:only-of-type {\n",
              "        vertical-align: middle;\n",
              "    }\n",
              "\n",
              "    .dataframe tbody tr th {\n",
              "        vertical-align: top;\n",
              "    }\n",
              "\n",
              "    .dataframe thead th {\n",
              "        text-align: right;\n",
              "    }\n",
              "</style>\n",
              "<table border=\"1\" class=\"dataframe\">\n",
              "  <thead>\n",
              "    <tr style=\"text-align: right;\">\n",
              "      <th></th>\n",
              "      <th>Age</th>\n",
              "      <th>Nationality</th>\n",
              "      <th>Overall</th>\n",
              "    </tr>\n",
              "  </thead>\n",
              "  <tbody>\n",
              "    <tr>\n",
              "      <th>1</th>\n",
              "      <td>35</td>\n",
              "      <td>Portugal</td>\n",
              "      <td>94</td>\n",
              "    </tr>\n",
              "    <tr>\n",
              "      <th>2</th>\n",
              "      <td>33</td>\n",
              "      <td>Argentina</td>\n",
              "      <td>93</td>\n",
              "    </tr>\n",
              "    <tr>\n",
              "      <th>3</th>\n",
              "      <td>30</td>\n",
              "      <td>Brazil</td>\n",
              "      <td>92</td>\n",
              "    </tr>\n",
              "  </tbody>\n",
              "</table>\n",
              "</div>\n",
              "      <button class=\"colab-df-convert\" onclick=\"convertToInteractive('df-8d936926-e005-4126-afb6-5e3fd223ba84')\"\n",
              "              title=\"Convert this dataframe to an interactive table.\"\n",
              "              style=\"display:none;\">\n",
              "        \n",
              "  <svg xmlns=\"http://www.w3.org/2000/svg\" height=\"24px\"viewBox=\"0 0 24 24\"\n",
              "       width=\"24px\">\n",
              "    <path d=\"M0 0h24v24H0V0z\" fill=\"none\"/>\n",
              "    <path d=\"M18.56 5.44l.94 2.06.94-2.06 2.06-.94-2.06-.94-.94-2.06-.94 2.06-2.06.94zm-11 1L8.5 8.5l.94-2.06 2.06-.94-2.06-.94L8.5 2.5l-.94 2.06-2.06.94zm10 10l.94 2.06.94-2.06 2.06-.94-2.06-.94-.94-2.06-.94 2.06-2.06.94z\"/><path d=\"M17.41 7.96l-1.37-1.37c-.4-.4-.92-.59-1.43-.59-.52 0-1.04.2-1.43.59L10.3 9.45l-7.72 7.72c-.78.78-.78 2.05 0 2.83L4 21.41c.39.39.9.59 1.41.59.51 0 1.02-.2 1.41-.59l7.78-7.78 2.81-2.81c.8-.78.8-2.07 0-2.86zM5.41 20L4 18.59l7.72-7.72 1.47 1.35L5.41 20z\"/>\n",
              "  </svg>\n",
              "      </button>\n",
              "      \n",
              "  <style>\n",
              "    .colab-df-container {\n",
              "      display:flex;\n",
              "      flex-wrap:wrap;\n",
              "      gap: 12px;\n",
              "    }\n",
              "\n",
              "    .colab-df-convert {\n",
              "      background-color: #E8F0FE;\n",
              "      border: none;\n",
              "      border-radius: 50%;\n",
              "      cursor: pointer;\n",
              "      display: none;\n",
              "      fill: #1967D2;\n",
              "      height: 32px;\n",
              "      padding: 0 0 0 0;\n",
              "      width: 32px;\n",
              "    }\n",
              "\n",
              "    .colab-df-convert:hover {\n",
              "      background-color: #E2EBFA;\n",
              "      box-shadow: 0px 1px 2px rgba(60, 64, 67, 0.3), 0px 1px 3px 1px rgba(60, 64, 67, 0.15);\n",
              "      fill: #174EA6;\n",
              "    }\n",
              "\n",
              "    [theme=dark] .colab-df-convert {\n",
              "      background-color: #3B4455;\n",
              "      fill: #D2E3FC;\n",
              "    }\n",
              "\n",
              "    [theme=dark] .colab-df-convert:hover {\n",
              "      background-color: #434B5C;\n",
              "      box-shadow: 0px 1px 3px 1px rgba(0, 0, 0, 0.15);\n",
              "      filter: drop-shadow(0px 1px 2px rgba(0, 0, 0, 0.3));\n",
              "      fill: #FFFFFF;\n",
              "    }\n",
              "  </style>\n",
              "\n",
              "      <script>\n",
              "        const buttonEl =\n",
              "          document.querySelector('#df-8d936926-e005-4126-afb6-5e3fd223ba84 button.colab-df-convert');\n",
              "        buttonEl.style.display =\n",
              "          google.colab.kernel.accessAllowed ? 'block' : 'none';\n",
              "\n",
              "        async function convertToInteractive(key) {\n",
              "          const element = document.querySelector('#df-8d936926-e005-4126-afb6-5e3fd223ba84');\n",
              "          const dataTable =\n",
              "            await google.colab.kernel.invokeFunction('convertToInteractive',\n",
              "                                                     [key], {});\n",
              "          if (!dataTable) return;\n",
              "\n",
              "          const docLinkHtml = 'Like what you see? Visit the ' +\n",
              "            '<a target=\"_blank\" href=https://colab.research.google.com/notebooks/data_table.ipynb>data table notebook</a>'\n",
              "            + ' to learn more about interactive tables.';\n",
              "          element.innerHTML = '';\n",
              "          dataTable['output_type'] = 'display_data';\n",
              "          await google.colab.output.renderOutput(dataTable, element);\n",
              "          const docLink = document.createElement('div');\n",
              "          docLink.innerHTML = docLinkHtml;\n",
              "          element.appendChild(docLink);\n",
              "        }\n",
              "      </script>\n",
              "    </div>\n",
              "  </div>\n",
              "  "
            ],
            "text/plain": [
              "   Age Nationality  Overall\n",
              "1   35    Portugal       94\n",
              "2   33   Argentina       93\n",
              "3   30      Brazil       92"
            ]
          },
          "metadata": {},
          "execution_count": 12
        }
      ]
    },
    {
      "cell_type": "code",
      "source": [
        "# Q2\n",
        "array  = ([[94, 89, 63], [93, 92, 48], [92, 94, 56]])\n",
        "\n",
        "print(array)\n",
        "array[:3]"
      ],
      "metadata": {
        "colab": {
          "base_uri": "https://localhost:8080/"
        },
        "id": "UFj1pf9C_3So",
        "outputId": "5efeeaec-3e51-446c-9670-fdd5e609fd3f"
      },
      "execution_count": 24,
      "outputs": [
        {
          "output_type": "stream",
          "name": "stdout",
          "text": [
            "[[94, 89, 63], [93, 92, 48], [92, 94, 56]]\n"
          ]
        },
        {
          "output_type": "execute_result",
          "data": {
            "text/plain": [
              "[[94, 89, 63], [93, 92, 48], [92, 94, 56]]"
            ]
          },
          "metadata": {},
          "execution_count": 24
        }
      ]
    },
    {
      "cell_type": "code",
      "source": [
        "# Q3\n",
        "import math"
      ],
      "metadata": {
        "id": "W_Th6ujYAxSc"
      },
      "execution_count": 25,
      "outputs": []
    },
    {
      "cell_type": "code",
      "source": [
        "# Q4\n",
        "df.shape"
      ],
      "metadata": {
        "colab": {
          "base_uri": "https://localhost:8080/"
        },
        "id": "IN4khkkNBySy",
        "outputId": "cc976be8-4222-4bb6-e106-7a8585f4969e"
      },
      "execution_count": 29,
      "outputs": [
        {
          "output_type": "execute_result",
          "data": {
            "text/plain": [
              "(3, 3)"
            ]
          },
          "metadata": {},
          "execution_count": 29
        }
      ]
    },
    {
      "cell_type": "code",
      "source": [
        "# Q5\n",
        "S = [['him', 'sell'], [90, 28, 43]]\n",
        "S[0][1][1]"
      ],
      "metadata": {
        "colab": {
          "base_uri": "https://localhost:8080/",
          "height": 35
        },
        "id": "8KuwJ2VeB9Qa",
        "outputId": "69c015d8-bd1d-4636-8f0e-1dc1ba809467"
      },
      "execution_count": 30,
      "outputs": [
        {
          "output_type": "execute_result",
          "data": {
            "application/vnd.google.colaboratory.intrinsic+json": {
              "type": "string"
            },
            "text/plain": [
              "'e'"
            ]
          },
          "metadata": {},
          "execution_count": 30
        }
      ]
    },
    {
      "cell_type": "code",
      "source": [
        "# Q6\n",
        "my_tuppy = (1,2,5,8)\n",
        "my_tuppy[2] = 6"
      ],
      "metadata": {
        "colab": {
          "base_uri": "https://localhost:8080/",
          "height": 200
        },
        "id": "sivyWvHsCMNk",
        "outputId": "5d143cbb-315d-4d75-86e3-e2037dc9e8fc"
      },
      "execution_count": 31,
      "outputs": [
        {
          "output_type": "error",
          "ename": "TypeError",
          "evalue": "ignored",
          "traceback": [
            "\u001b[0;31m---------------------------------------------------------------------------\u001b[0m",
            "\u001b[0;31mTypeError\u001b[0m                                 Traceback (most recent call last)",
            "\u001b[0;32m<ipython-input-31-5a63463e8b3e>\u001b[0m in \u001b[0;36m<module>\u001b[0;34m()\u001b[0m\n\u001b[1;32m      1\u001b[0m \u001b[0;31m# Q6\u001b[0m\u001b[0;34m\u001b[0m\u001b[0;34m\u001b[0m\u001b[0;34m\u001b[0m\u001b[0m\n\u001b[1;32m      2\u001b[0m \u001b[0mmy_tuppy\u001b[0m \u001b[0;34m=\u001b[0m \u001b[0;34m(\u001b[0m\u001b[0;36m1\u001b[0m\u001b[0;34m,\u001b[0m\u001b[0;36m2\u001b[0m\u001b[0;34m,\u001b[0m\u001b[0;36m5\u001b[0m\u001b[0;34m,\u001b[0m\u001b[0;36m8\u001b[0m\u001b[0;34m)\u001b[0m\u001b[0;34m\u001b[0m\u001b[0;34m\u001b[0m\u001b[0m\n\u001b[0;32m----> 3\u001b[0;31m \u001b[0mmy_tuppy\u001b[0m\u001b[0;34m[\u001b[0m\u001b[0;36m2\u001b[0m\u001b[0;34m]\u001b[0m \u001b[0;34m=\u001b[0m \u001b[0;36m6\u001b[0m\u001b[0;34m\u001b[0m\u001b[0;34m\u001b[0m\u001b[0m\n\u001b[0m",
            "\u001b[0;31mTypeError\u001b[0m: 'tuple' object does not support item assignment"
          ]
        }
      ]
    },
    {
      "cell_type": "code",
      "source": [
        "# Q7\n",
        "y = [(2, 4), (7, 8), (1, 5, 9)]\n",
        "print(y)\n",
        "x = y[1][1]\n",
        "print(x)"
      ],
      "metadata": {
        "colab": {
          "base_uri": "https://localhost:8080/"
        },
        "id": "-5gwGk42CSAZ",
        "outputId": "f594a01c-eca1-43fd-e14a-a14bf811b51f"
      },
      "execution_count": 36,
      "outputs": [
        {
          "output_type": "stream",
          "name": "stdout",
          "text": [
            "[(2, 4), (7, 8), (1, 5, 9)]\n",
            "8\n"
          ]
        }
      ]
    },
    {
      "cell_type": "code",
      "source": [
        "# Q8\n",
        "print(set)\n",
        "print(list)\n",
        "print(tuple)\n",
        "print(dict)"
      ],
      "metadata": {
        "colab": {
          "base_uri": "https://localhost:8080/"
        },
        "id": "cuFyn9sNCl7S",
        "outputId": "9bdb4beb-f3ba-458e-c13e-0c9bb7bdd69f"
      },
      "execution_count": 40,
      "outputs": [
        {
          "output_type": "stream",
          "name": "stdout",
          "text": [
            "<class 'set'>\n",
            "<class 'list'>\n",
            "<class 'tuple'>\n",
            "<class 'dict'>\n"
          ]
        }
      ]
    },
    {
      "cell_type": "code",
      "source": [
        "# Q9"
      ],
      "metadata": {
        "id": "GRb-qj-cC9KG"
      },
      "execution_count": 41,
      "outputs": []
    },
    {
      "cell_type": "code",
      "source": [
        "# Q10\n",
        "df.iloc[0:1]"
      ],
      "metadata": {
        "colab": {
          "base_uri": "https://localhost:8080/",
          "height": 81
        },
        "id": "mYcJbxSADS7D",
        "outputId": "9a716ac4-ba5b-46ef-d6e8-3076546c4bc7"
      },
      "execution_count": 44,
      "outputs": [
        {
          "output_type": "execute_result",
          "data": {
            "text/html": [
              "\n",
              "  <div id=\"df-0f1acaa1-0082-4478-9190-726e3f63032a\">\n",
              "    <div class=\"colab-df-container\">\n",
              "      <div>\n",
              "<style scoped>\n",
              "    .dataframe tbody tr th:only-of-type {\n",
              "        vertical-align: middle;\n",
              "    }\n",
              "\n",
              "    .dataframe tbody tr th {\n",
              "        vertical-align: top;\n",
              "    }\n",
              "\n",
              "    .dataframe thead th {\n",
              "        text-align: right;\n",
              "    }\n",
              "</style>\n",
              "<table border=\"1\" class=\"dataframe\">\n",
              "  <thead>\n",
              "    <tr style=\"text-align: right;\">\n",
              "      <th></th>\n",
              "      <th>Age</th>\n",
              "      <th>Nationality</th>\n",
              "      <th>Overall</th>\n",
              "    </tr>\n",
              "  </thead>\n",
              "  <tbody>\n",
              "    <tr>\n",
              "      <th>1</th>\n",
              "      <td>35</td>\n",
              "      <td>Portugal</td>\n",
              "      <td>94</td>\n",
              "    </tr>\n",
              "  </tbody>\n",
              "</table>\n",
              "</div>\n",
              "      <button class=\"colab-df-convert\" onclick=\"convertToInteractive('df-0f1acaa1-0082-4478-9190-726e3f63032a')\"\n",
              "              title=\"Convert this dataframe to an interactive table.\"\n",
              "              style=\"display:none;\">\n",
              "        \n",
              "  <svg xmlns=\"http://www.w3.org/2000/svg\" height=\"24px\"viewBox=\"0 0 24 24\"\n",
              "       width=\"24px\">\n",
              "    <path d=\"M0 0h24v24H0V0z\" fill=\"none\"/>\n",
              "    <path d=\"M18.56 5.44l.94 2.06.94-2.06 2.06-.94-2.06-.94-.94-2.06-.94 2.06-2.06.94zm-11 1L8.5 8.5l.94-2.06 2.06-.94-2.06-.94L8.5 2.5l-.94 2.06-2.06.94zm10 10l.94 2.06.94-2.06 2.06-.94-2.06-.94-.94-2.06-.94 2.06-2.06.94z\"/><path d=\"M17.41 7.96l-1.37-1.37c-.4-.4-.92-.59-1.43-.59-.52 0-1.04.2-1.43.59L10.3 9.45l-7.72 7.72c-.78.78-.78 2.05 0 2.83L4 21.41c.39.39.9.59 1.41.59.51 0 1.02-.2 1.41-.59l7.78-7.78 2.81-2.81c.8-.78.8-2.07 0-2.86zM5.41 20L4 18.59l7.72-7.72 1.47 1.35L5.41 20z\"/>\n",
              "  </svg>\n",
              "      </button>\n",
              "      \n",
              "  <style>\n",
              "    .colab-df-container {\n",
              "      display:flex;\n",
              "      flex-wrap:wrap;\n",
              "      gap: 12px;\n",
              "    }\n",
              "\n",
              "    .colab-df-convert {\n",
              "      background-color: #E8F0FE;\n",
              "      border: none;\n",
              "      border-radius: 50%;\n",
              "      cursor: pointer;\n",
              "      display: none;\n",
              "      fill: #1967D2;\n",
              "      height: 32px;\n",
              "      padding: 0 0 0 0;\n",
              "      width: 32px;\n",
              "    }\n",
              "\n",
              "    .colab-df-convert:hover {\n",
              "      background-color: #E2EBFA;\n",
              "      box-shadow: 0px 1px 2px rgba(60, 64, 67, 0.3), 0px 1px 3px 1px rgba(60, 64, 67, 0.15);\n",
              "      fill: #174EA6;\n",
              "    }\n",
              "\n",
              "    [theme=dark] .colab-df-convert {\n",
              "      background-color: #3B4455;\n",
              "      fill: #D2E3FC;\n",
              "    }\n",
              "\n",
              "    [theme=dark] .colab-df-convert:hover {\n",
              "      background-color: #434B5C;\n",
              "      box-shadow: 0px 1px 3px 1px rgba(0, 0, 0, 0.15);\n",
              "      filter: drop-shadow(0px 1px 2px rgba(0, 0, 0, 0.3));\n",
              "      fill: #FFFFFF;\n",
              "    }\n",
              "  </style>\n",
              "\n",
              "      <script>\n",
              "        const buttonEl =\n",
              "          document.querySelector('#df-0f1acaa1-0082-4478-9190-726e3f63032a button.colab-df-convert');\n",
              "        buttonEl.style.display =\n",
              "          google.colab.kernel.accessAllowed ? 'block' : 'none';\n",
              "\n",
              "        async function convertToInteractive(key) {\n",
              "          const element = document.querySelector('#df-0f1acaa1-0082-4478-9190-726e3f63032a');\n",
              "          const dataTable =\n",
              "            await google.colab.kernel.invokeFunction('convertToInteractive',\n",
              "                                                     [key], {});\n",
              "          if (!dataTable) return;\n",
              "\n",
              "          const docLinkHtml = 'Like what you see? Visit the ' +\n",
              "            '<a target=\"_blank\" href=https://colab.research.google.com/notebooks/data_table.ipynb>data table notebook</a>'\n",
              "            + ' to learn more about interactive tables.';\n",
              "          element.innerHTML = '';\n",
              "          dataTable['output_type'] = 'display_data';\n",
              "          await google.colab.output.renderOutput(dataTable, element);\n",
              "          const docLink = document.createElement('div');\n",
              "          docLink.innerHTML = docLinkHtml;\n",
              "          element.appendChild(docLink);\n",
              "        }\n",
              "      </script>\n",
              "    </div>\n",
              "  </div>\n",
              "  "
            ],
            "text/plain": [
              "   Age Nationality  Overall\n",
              "1   35    Portugal       94"
            ]
          },
          "metadata": {},
          "execution_count": 44
        }
      ]
    },
    {
      "cell_type": "code",
      "source": [
        "# Q11\n",
        "data.head()"
      ],
      "metadata": {
        "colab": {
          "base_uri": "https://localhost:8080/",
          "height": 371
        },
        "id": "2-1XCTgzDeMG",
        "outputId": "8ac703c9-892d-4e9d-a92e-46105271d202"
      },
      "execution_count": 45,
      "outputs": [
        {
          "output_type": "execute_result",
          "data": {
            "text/html": [
              "\n",
              "  <div id=\"df-386f93e2-0bd1-4fb2-8341-961da76bdb84\">\n",
              "    <div class=\"colab-df-container\">\n",
              "      <div>\n",
              "<style scoped>\n",
              "    .dataframe tbody tr th:only-of-type {\n",
              "        vertical-align: middle;\n",
              "    }\n",
              "\n",
              "    .dataframe tbody tr th {\n",
              "        vertical-align: top;\n",
              "    }\n",
              "\n",
              "    .dataframe thead th {\n",
              "        text-align: right;\n",
              "    }\n",
              "</style>\n",
              "<table border=\"1\" class=\"dataframe\">\n",
              "  <thead>\n",
              "    <tr style=\"text-align: right;\">\n",
              "      <th></th>\n",
              "      <th>Area Code</th>\n",
              "      <th>Area</th>\n",
              "      <th>Item Code</th>\n",
              "      <th>Item</th>\n",
              "      <th>Element Code</th>\n",
              "      <th>Element</th>\n",
              "      <th>Unit</th>\n",
              "      <th>Y2014</th>\n",
              "      <th>Y2015</th>\n",
              "      <th>Y2016</th>\n",
              "      <th>Y2017</th>\n",
              "      <th>Y2018</th>\n",
              "    </tr>\n",
              "  </thead>\n",
              "  <tbody>\n",
              "    <tr>\n",
              "      <th>0</th>\n",
              "      <td>4</td>\n",
              "      <td>Algeria</td>\n",
              "      <td>2501</td>\n",
              "      <td>Population</td>\n",
              "      <td>511</td>\n",
              "      <td>Total Population - Both sexes</td>\n",
              "      <td>1000 persons</td>\n",
              "      <td>38924.00</td>\n",
              "      <td>39728.00</td>\n",
              "      <td>40551.00</td>\n",
              "      <td>41389.00</td>\n",
              "      <td>42228.00</td>\n",
              "    </tr>\n",
              "    <tr>\n",
              "      <th>1</th>\n",
              "      <td>4</td>\n",
              "      <td>Algeria</td>\n",
              "      <td>2501</td>\n",
              "      <td>Population</td>\n",
              "      <td>5301</td>\n",
              "      <td>Domestic supply quantity</td>\n",
              "      <td>1000 tonnes</td>\n",
              "      <td>0.00</td>\n",
              "      <td>0.00</td>\n",
              "      <td>0.00</td>\n",
              "      <td>0.00</td>\n",
              "      <td>0.00</td>\n",
              "    </tr>\n",
              "    <tr>\n",
              "      <th>2</th>\n",
              "      <td>4</td>\n",
              "      <td>Algeria</td>\n",
              "      <td>2901</td>\n",
              "      <td>Grand Total</td>\n",
              "      <td>664</td>\n",
              "      <td>Food supply (kcal/capita/day)</td>\n",
              "      <td>kcal/capita/day</td>\n",
              "      <td>3377.00</td>\n",
              "      <td>3379.00</td>\n",
              "      <td>3372.00</td>\n",
              "      <td>3341.00</td>\n",
              "      <td>3322.00</td>\n",
              "    </tr>\n",
              "    <tr>\n",
              "      <th>3</th>\n",
              "      <td>4</td>\n",
              "      <td>Algeria</td>\n",
              "      <td>2901</td>\n",
              "      <td>Grand Total</td>\n",
              "      <td>674</td>\n",
              "      <td>Protein supply quantity (g/capita/day)</td>\n",
              "      <td>g/capita/day</td>\n",
              "      <td>94.90</td>\n",
              "      <td>94.35</td>\n",
              "      <td>94.72</td>\n",
              "      <td>92.82</td>\n",
              "      <td>91.83</td>\n",
              "    </tr>\n",
              "    <tr>\n",
              "      <th>4</th>\n",
              "      <td>4</td>\n",
              "      <td>Algeria</td>\n",
              "      <td>2901</td>\n",
              "      <td>Grand Total</td>\n",
              "      <td>684</td>\n",
              "      <td>Fat supply quantity (g/capita/day)</td>\n",
              "      <td>g/capita/day</td>\n",
              "      <td>80.06</td>\n",
              "      <td>79.36</td>\n",
              "      <td>77.40</td>\n",
              "      <td>80.19</td>\n",
              "      <td>77.28</td>\n",
              "    </tr>\n",
              "  </tbody>\n",
              "</table>\n",
              "</div>\n",
              "      <button class=\"colab-df-convert\" onclick=\"convertToInteractive('df-386f93e2-0bd1-4fb2-8341-961da76bdb84')\"\n",
              "              title=\"Convert this dataframe to an interactive table.\"\n",
              "              style=\"display:none;\">\n",
              "        \n",
              "  <svg xmlns=\"http://www.w3.org/2000/svg\" height=\"24px\"viewBox=\"0 0 24 24\"\n",
              "       width=\"24px\">\n",
              "    <path d=\"M0 0h24v24H0V0z\" fill=\"none\"/>\n",
              "    <path d=\"M18.56 5.44l.94 2.06.94-2.06 2.06-.94-2.06-.94-.94-2.06-.94 2.06-2.06.94zm-11 1L8.5 8.5l.94-2.06 2.06-.94-2.06-.94L8.5 2.5l-.94 2.06-2.06.94zm10 10l.94 2.06.94-2.06 2.06-.94-2.06-.94-.94-2.06-.94 2.06-2.06.94z\"/><path d=\"M17.41 7.96l-1.37-1.37c-.4-.4-.92-.59-1.43-.59-.52 0-1.04.2-1.43.59L10.3 9.45l-7.72 7.72c-.78.78-.78 2.05 0 2.83L4 21.41c.39.39.9.59 1.41.59.51 0 1.02-.2 1.41-.59l7.78-7.78 2.81-2.81c.8-.78.8-2.07 0-2.86zM5.41 20L4 18.59l7.72-7.72 1.47 1.35L5.41 20z\"/>\n",
              "  </svg>\n",
              "      </button>\n",
              "      \n",
              "  <style>\n",
              "    .colab-df-container {\n",
              "      display:flex;\n",
              "      flex-wrap:wrap;\n",
              "      gap: 12px;\n",
              "    }\n",
              "\n",
              "    .colab-df-convert {\n",
              "      background-color: #E8F0FE;\n",
              "      border: none;\n",
              "      border-radius: 50%;\n",
              "      cursor: pointer;\n",
              "      display: none;\n",
              "      fill: #1967D2;\n",
              "      height: 32px;\n",
              "      padding: 0 0 0 0;\n",
              "      width: 32px;\n",
              "    }\n",
              "\n",
              "    .colab-df-convert:hover {\n",
              "      background-color: #E2EBFA;\n",
              "      box-shadow: 0px 1px 2px rgba(60, 64, 67, 0.3), 0px 1px 3px 1px rgba(60, 64, 67, 0.15);\n",
              "      fill: #174EA6;\n",
              "    }\n",
              "\n",
              "    [theme=dark] .colab-df-convert {\n",
              "      background-color: #3B4455;\n",
              "      fill: #D2E3FC;\n",
              "    }\n",
              "\n",
              "    [theme=dark] .colab-df-convert:hover {\n",
              "      background-color: #434B5C;\n",
              "      box-shadow: 0px 1px 3px 1px rgba(0, 0, 0, 0.15);\n",
              "      filter: drop-shadow(0px 1px 2px rgba(0, 0, 0, 0.3));\n",
              "      fill: #FFFFFF;\n",
              "    }\n",
              "  </style>\n",
              "\n",
              "      <script>\n",
              "        const buttonEl =\n",
              "          document.querySelector('#df-386f93e2-0bd1-4fb2-8341-961da76bdb84 button.colab-df-convert');\n",
              "        buttonEl.style.display =\n",
              "          google.colab.kernel.accessAllowed ? 'block' : 'none';\n",
              "\n",
              "        async function convertToInteractive(key) {\n",
              "          const element = document.querySelector('#df-386f93e2-0bd1-4fb2-8341-961da76bdb84');\n",
              "          const dataTable =\n",
              "            await google.colab.kernel.invokeFunction('convertToInteractive',\n",
              "                                                     [key], {});\n",
              "          if (!dataTable) return;\n",
              "\n",
              "          const docLinkHtml = 'Like what you see? Visit the ' +\n",
              "            '<a target=\"_blank\" href=https://colab.research.google.com/notebooks/data_table.ipynb>data table notebook</a>'\n",
              "            + ' to learn more about interactive tables.';\n",
              "          element.innerHTML = '';\n",
              "          dataTable['output_type'] = 'display_data';\n",
              "          await google.colab.output.renderOutput(dataTable, element);\n",
              "          const docLink = document.createElement('div');\n",
              "          docLink.innerHTML = docLinkHtml;\n",
              "          element.appendChild(docLink);\n",
              "        }\n",
              "      </script>\n",
              "    </div>\n",
              "  </div>\n",
              "  "
            ],
            "text/plain": [
              "   Area Code     Area  Item Code  ...     Y2016     Y2017     Y2018\n",
              "0          4  Algeria       2501  ...  40551.00  41389.00  42228.00\n",
              "1          4  Algeria       2501  ...      0.00      0.00      0.00\n",
              "2          4  Algeria       2901  ...   3372.00   3341.00   3322.00\n",
              "3          4  Algeria       2901  ...     94.72     92.82     91.83\n",
              "4          4  Algeria       2901  ...     77.40     80.19     77.28\n",
              "\n",
              "[5 rows x 12 columns]"
            ]
          },
          "metadata": {},
          "execution_count": 45
        }
      ]
    },
    {
      "cell_type": "code",
      "source": [
        "\n",
        "print(data.groupby('Item')['Y2014'].sum()\n",
        ")\n",
        "print(data.groupby('Item')['Y2017'].sum())\n"
      ],
      "metadata": {
        "colab": {
          "base_uri": "https://localhost:8080/"
        },
        "id": "Pckcrp9wDqU1",
        "outputId": "cd65013a-6a3a-4c97-f57a-f93f227f641d"
      },
      "execution_count": 50,
      "outputs": [
        {
          "output_type": "stream",
          "name": "stdout",
          "text": [
            "Item\n",
            "Alcohol, Non-Food        2403.00\n",
            "Alcoholic Beverages    102410.11\n",
            "Animal Products         11935.65\n",
            "Animal fats            209460.54\n",
            "Apples and products      9499.23\n",
            "                         ...    \n",
            "Vegetables, Other      155038.96\n",
            "Vegetal Products       107145.19\n",
            "Wheat and products     232670.13\n",
            "Wine                     4497.36\n",
            "Yams                   200396.96\n",
            "Name: Y2014, Length: 119, dtype: float64\n",
            "Item\n",
            "Alcohol, Non-Food        2348.00\n",
            "Alcoholic Beverages     95581.06\n",
            "Animal Products         11547.65\n",
            "Animal fats            269617.53\n",
            "Apples and products     10198.90\n",
            "                         ...    \n",
            "Vegetables, Other      157752.59\n",
            "Vegetal Products       107655.20\n",
            "Wheat and products     240047.62\n",
            "Wine                     4178.02\n",
            "Yams                   229174.59\n",
            "Name: Y2017, Length: 119, dtype: float64\n"
          ]
        }
      ]
    },
    {
      "cell_type": "code",
      "source": [
        "# Q12\n",
        "print(data['Y2015'].mean()\n",
        ")\n",
        "print(data['Y2015'].std()\n",
        ")"
      ],
      "metadata": {
        "colab": {
          "base_uri": "https://localhost:8080/"
        },
        "id": "n5FomtKuD8rJ",
        "outputId": "b611b7c5-49c7-475e-8ac5-a7946e3700c6"
      },
      "execution_count": 54,
      "outputs": [
        {
          "output_type": "stream",
          "name": "stdout",
          "text": [
            "135.23596649549236\n",
            "1603.4039839423301\n"
          ]
        }
      ]
    },
    {
      "cell_type": "code",
      "source": [
        "# Q13\n",
        "data['Y2016'].isnull().sum()"
      ],
      "metadata": {
        "colab": {
          "base_uri": "https://localhost:8080/"
        },
        "id": "J8NIrQfyEs3U",
        "outputId": "3530c2e2-98a6-4098-e70d-0cf95c46ba0f"
      },
      "execution_count": 56,
      "outputs": [
        {
          "output_type": "execute_result",
          "data": {
            "text/plain": [
              "1535"
            ]
          },
          "metadata": {},
          "execution_count": 56
        }
      ]
    },
    {
      "cell_type": "code",
      "source": [
        "# Q14\n",
        "import seaborn as sns\n",
        "import matplotlib.pyplot as plt\n",
        "\n",
        "plt.figure(figsize=(5,5))\n",
        "sns.regplot(x=data['Element Code'], y=data['Y2014'])\n",
        "\n",
        "# correlation matrix\n",
        "data.corr()"
      ],
      "metadata": {
        "colab": {
          "base_uri": "https://localhost:8080/",
          "height": 617
        },
        "id": "HShio4EwFFFu",
        "outputId": "f878afa2-9a48-4441-d8b9-6754768dc34d"
      },
      "execution_count": 93,
      "outputs": [
        {
          "output_type": "execute_result",
          "data": {
            "text/html": [
              "\n",
              "  <div id=\"df-fa600fc1-9a52-4687-bb1f-71abefe16d1c\">\n",
              "    <div class=\"colab-df-container\">\n",
              "      <div>\n",
              "<style scoped>\n",
              "    .dataframe tbody tr th:only-of-type {\n",
              "        vertical-align: middle;\n",
              "    }\n",
              "\n",
              "    .dataframe tbody tr th {\n",
              "        vertical-align: top;\n",
              "    }\n",
              "\n",
              "    .dataframe thead th {\n",
              "        text-align: right;\n",
              "    }\n",
              "</style>\n",
              "<table border=\"1\" class=\"dataframe\">\n",
              "  <thead>\n",
              "    <tr style=\"text-align: right;\">\n",
              "      <th></th>\n",
              "      <th>Area Code</th>\n",
              "      <th>Item Code</th>\n",
              "      <th>Element Code</th>\n",
              "      <th>Y2014</th>\n",
              "      <th>Y2015</th>\n",
              "      <th>Y2016</th>\n",
              "      <th>Y2017</th>\n",
              "      <th>Y2018</th>\n",
              "    </tr>\n",
              "  </thead>\n",
              "  <tbody>\n",
              "    <tr>\n",
              "      <th>Area Code</th>\n",
              "      <td>1.000000</td>\n",
              "      <td>-0.005159</td>\n",
              "      <td>-0.000209</td>\n",
              "      <td>0.006164</td>\n",
              "      <td>0.005472</td>\n",
              "      <td>0.005247</td>\n",
              "      <td>0.005006</td>\n",
              "      <td>0.005665</td>\n",
              "    </tr>\n",
              "    <tr>\n",
              "      <th>Item Code</th>\n",
              "      <td>-0.005159</td>\n",
              "      <td>1.000000</td>\n",
              "      <td>-0.024683</td>\n",
              "      <td>0.021722</td>\n",
              "      <td>0.020857</td>\n",
              "      <td>0.020109</td>\n",
              "      <td>0.021494</td>\n",
              "      <td>0.021314</td>\n",
              "    </tr>\n",
              "    <tr>\n",
              "      <th>Element Code</th>\n",
              "      <td>-0.000209</td>\n",
              "      <td>-0.024683</td>\n",
              "      <td>1.000000</td>\n",
              "      <td>0.024457</td>\n",
              "      <td>0.023889</td>\n",
              "      <td>0.023444</td>\n",
              "      <td>0.024254</td>\n",
              "      <td>0.024279</td>\n",
              "    </tr>\n",
              "    <tr>\n",
              "      <th>Y2014</th>\n",
              "      <td>0.006164</td>\n",
              "      <td>0.021722</td>\n",
              "      <td>0.024457</td>\n",
              "      <td>1.000000</td>\n",
              "      <td>0.994647</td>\n",
              "      <td>0.996081</td>\n",
              "      <td>0.995230</td>\n",
              "      <td>0.994872</td>\n",
              "    </tr>\n",
              "    <tr>\n",
              "      <th>Y2015</th>\n",
              "      <td>0.005472</td>\n",
              "      <td>0.020857</td>\n",
              "      <td>0.023889</td>\n",
              "      <td>0.994647</td>\n",
              "      <td>1.000000</td>\n",
              "      <td>0.995739</td>\n",
              "      <td>0.988048</td>\n",
              "      <td>0.988208</td>\n",
              "    </tr>\n",
              "    <tr>\n",
              "      <th>Y2016</th>\n",
              "      <td>0.005247</td>\n",
              "      <td>0.020109</td>\n",
              "      <td>0.023444</td>\n",
              "      <td>0.996081</td>\n",
              "      <td>0.995739</td>\n",
              "      <td>1.000000</td>\n",
              "      <td>0.992785</td>\n",
              "      <td>0.992757</td>\n",
              "    </tr>\n",
              "    <tr>\n",
              "      <th>Y2017</th>\n",
              "      <td>0.005006</td>\n",
              "      <td>0.021494</td>\n",
              "      <td>0.024254</td>\n",
              "      <td>0.995230</td>\n",
              "      <td>0.988048</td>\n",
              "      <td>0.992785</td>\n",
              "      <td>1.000000</td>\n",
              "      <td>0.998103</td>\n",
              "    </tr>\n",
              "    <tr>\n",
              "      <th>Y2018</th>\n",
              "      <td>0.005665</td>\n",
              "      <td>0.021314</td>\n",
              "      <td>0.024279</td>\n",
              "      <td>0.994872</td>\n",
              "      <td>0.988208</td>\n",
              "      <td>0.992757</td>\n",
              "      <td>0.998103</td>\n",
              "      <td>1.000000</td>\n",
              "    </tr>\n",
              "  </tbody>\n",
              "</table>\n",
              "</div>\n",
              "      <button class=\"colab-df-convert\" onclick=\"convertToInteractive('df-fa600fc1-9a52-4687-bb1f-71abefe16d1c')\"\n",
              "              title=\"Convert this dataframe to an interactive table.\"\n",
              "              style=\"display:none;\">\n",
              "        \n",
              "  <svg xmlns=\"http://www.w3.org/2000/svg\" height=\"24px\"viewBox=\"0 0 24 24\"\n",
              "       width=\"24px\">\n",
              "    <path d=\"M0 0h24v24H0V0z\" fill=\"none\"/>\n",
              "    <path d=\"M18.56 5.44l.94 2.06.94-2.06 2.06-.94-2.06-.94-.94-2.06-.94 2.06-2.06.94zm-11 1L8.5 8.5l.94-2.06 2.06-.94-2.06-.94L8.5 2.5l-.94 2.06-2.06.94zm10 10l.94 2.06.94-2.06 2.06-.94-2.06-.94-.94-2.06-.94 2.06-2.06.94z\"/><path d=\"M17.41 7.96l-1.37-1.37c-.4-.4-.92-.59-1.43-.59-.52 0-1.04.2-1.43.59L10.3 9.45l-7.72 7.72c-.78.78-.78 2.05 0 2.83L4 21.41c.39.39.9.59 1.41.59.51 0 1.02-.2 1.41-.59l7.78-7.78 2.81-2.81c.8-.78.8-2.07 0-2.86zM5.41 20L4 18.59l7.72-7.72 1.47 1.35L5.41 20z\"/>\n",
              "  </svg>\n",
              "      </button>\n",
              "      \n",
              "  <style>\n",
              "    .colab-df-container {\n",
              "      display:flex;\n",
              "      flex-wrap:wrap;\n",
              "      gap: 12px;\n",
              "    }\n",
              "\n",
              "    .colab-df-convert {\n",
              "      background-color: #E8F0FE;\n",
              "      border: none;\n",
              "      border-radius: 50%;\n",
              "      cursor: pointer;\n",
              "      display: none;\n",
              "      fill: #1967D2;\n",
              "      height: 32px;\n",
              "      padding: 0 0 0 0;\n",
              "      width: 32px;\n",
              "    }\n",
              "\n",
              "    .colab-df-convert:hover {\n",
              "      background-color: #E2EBFA;\n",
              "      box-shadow: 0px 1px 2px rgba(60, 64, 67, 0.3), 0px 1px 3px 1px rgba(60, 64, 67, 0.15);\n",
              "      fill: #174EA6;\n",
              "    }\n",
              "\n",
              "    [theme=dark] .colab-df-convert {\n",
              "      background-color: #3B4455;\n",
              "      fill: #D2E3FC;\n",
              "    }\n",
              "\n",
              "    [theme=dark] .colab-df-convert:hover {\n",
              "      background-color: #434B5C;\n",
              "      box-shadow: 0px 1px 3px 1px rgba(0, 0, 0, 0.15);\n",
              "      filter: drop-shadow(0px 1px 2px rgba(0, 0, 0, 0.3));\n",
              "      fill: #FFFFFF;\n",
              "    }\n",
              "  </style>\n",
              "\n",
              "      <script>\n",
              "        const buttonEl =\n",
              "          document.querySelector('#df-fa600fc1-9a52-4687-bb1f-71abefe16d1c button.colab-df-convert');\n",
              "        buttonEl.style.display =\n",
              "          google.colab.kernel.accessAllowed ? 'block' : 'none';\n",
              "\n",
              "        async function convertToInteractive(key) {\n",
              "          const element = document.querySelector('#df-fa600fc1-9a52-4687-bb1f-71abefe16d1c');\n",
              "          const dataTable =\n",
              "            await google.colab.kernel.invokeFunction('convertToInteractive',\n",
              "                                                     [key], {});\n",
              "          if (!dataTable) return;\n",
              "\n",
              "          const docLinkHtml = 'Like what you see? Visit the ' +\n",
              "            '<a target=\"_blank\" href=https://colab.research.google.com/notebooks/data_table.ipynb>data table notebook</a>'\n",
              "            + ' to learn more about interactive tables.';\n",
              "          element.innerHTML = '';\n",
              "          dataTable['output_type'] = 'display_data';\n",
              "          await google.colab.output.renderOutput(dataTable, element);\n",
              "          const docLink = document.createElement('div');\n",
              "          docLink.innerHTML = docLinkHtml;\n",
              "          element.appendChild(docLink);\n",
              "        }\n",
              "      </script>\n",
              "    </div>\n",
              "  </div>\n",
              "  "
            ],
            "text/plain": [
              "              Area Code  Item Code  Element Code  ...     Y2016     Y2017     Y2018\n",
              "Area Code      1.000000  -0.005159     -0.000209  ...  0.005247  0.005006  0.005665\n",
              "Item Code     -0.005159   1.000000     -0.024683  ...  0.020109  0.021494  0.021314\n",
              "Element Code  -0.000209  -0.024683      1.000000  ...  0.023444  0.024254  0.024279\n",
              "Y2014          0.006164   0.021722      0.024457  ...  0.996081  0.995230  0.994872\n",
              "Y2015          0.005472   0.020857      0.023889  ...  0.995739  0.988048  0.988208\n",
              "Y2016          0.005247   0.020109      0.023444  ...  1.000000  0.992785  0.992757\n",
              "Y2017          0.005006   0.021494      0.024254  ...  0.992785  1.000000  0.998103\n",
              "Y2018          0.005665   0.021314      0.024279  ...  0.992757  0.998103  1.000000\n",
              "\n",
              "[8 rows x 8 columns]"
            ]
          },
          "metadata": {},
          "execution_count": 93
        },
        {
          "output_type": "display_data",
          "data": {
            "image/png": "[encoded data removed]",
            "text/plain": [
              "<Figure size 360x360 with 1 Axes>"
            ]
          },
          "metadata": {
            "needs_background": "light"
          }
        }
      ]
    },
    {
      "cell_type": "code",
      "source": [
        "# Q15\n",
        "data.describe().T"
      ],
      "metadata": {
        "colab": {
          "base_uri": "https://localhost:8080/",
          "height": 300
        },
        "id": "BF8fBv26FdvU",
        "outputId": "9f015f1f-fa9e-4cbb-a7d6-d5c3007371bc"
      },
      "execution_count": 76,
      "outputs": [
        {
          "output_type": "execute_result",
          "data": {
            "text/html": [
              "\n",
              "  <div id=\"df-817a6575-8ce5-4f5f-ad89-f95306a69cfb\">\n",
              "    <div class=\"colab-df-container\">\n",
              "      <div>\n",
              "<style scoped>\n",
              "    .dataframe tbody tr th:only-of-type {\n",
              "        vertical-align: middle;\n",
              "    }\n",
              "\n",
              "    .dataframe tbody tr th {\n",
              "        vertical-align: top;\n",
              "    }\n",
              "\n",
              "    .dataframe thead th {\n",
              "        text-align: right;\n",
              "    }\n",
              "</style>\n",
              "<table border=\"1\" class=\"dataframe\">\n",
              "  <thead>\n",
              "    <tr style=\"text-align: right;\">\n",
              "      <th></th>\n",
              "      <th>count</th>\n",
              "      <th>mean</th>\n",
              "      <th>std</th>\n",
              "      <th>min</th>\n",
              "      <th>25%</th>\n",
              "      <th>50%</th>\n",
              "      <th>75%</th>\n",
              "      <th>max</th>\n",
              "    </tr>\n",
              "  </thead>\n",
              "  <tbody>\n",
              "    <tr>\n",
              "      <th>Area Code</th>\n",
              "      <td>60943.0</td>\n",
              "      <td>134.265576</td>\n",
              "      <td>72.605709</td>\n",
              "      <td>4.0</td>\n",
              "      <td>74.0</td>\n",
              "      <td>136.00</td>\n",
              "      <td>195.00</td>\n",
              "      <td>276.0</td>\n",
              "    </tr>\n",
              "    <tr>\n",
              "      <th>Item Code</th>\n",
              "      <td>60943.0</td>\n",
              "      <td>2687.176706</td>\n",
              "      <td>146.055739</td>\n",
              "      <td>2501.0</td>\n",
              "      <td>2562.0</td>\n",
              "      <td>2630.00</td>\n",
              "      <td>2775.00</td>\n",
              "      <td>2961.0</td>\n",
              "    </tr>\n",
              "    <tr>\n",
              "      <th>Element Code</th>\n",
              "      <td>60943.0</td>\n",
              "      <td>3814.856456</td>\n",
              "      <td>2212.007033</td>\n",
              "      <td>511.0</td>\n",
              "      <td>684.0</td>\n",
              "      <td>5142.00</td>\n",
              "      <td>5511.00</td>\n",
              "      <td>5911.0</td>\n",
              "    </tr>\n",
              "    <tr>\n",
              "      <th>Y2014</th>\n",
              "      <td>59354.0</td>\n",
              "      <td>134.196282</td>\n",
              "      <td>1567.663696</td>\n",
              "      <td>-1796.0</td>\n",
              "      <td>0.0</td>\n",
              "      <td>0.09</td>\n",
              "      <td>8.34</td>\n",
              "      <td>176405.0</td>\n",
              "    </tr>\n",
              "    <tr>\n",
              "      <th>Y2015</th>\n",
              "      <td>59395.0</td>\n",
              "      <td>135.235966</td>\n",
              "      <td>1603.403984</td>\n",
              "      <td>-3161.0</td>\n",
              "      <td>0.0</td>\n",
              "      <td>0.08</td>\n",
              "      <td>8.46</td>\n",
              "      <td>181137.0</td>\n",
              "    </tr>\n",
              "    <tr>\n",
              "      <th>Y2016</th>\n",
              "      <td>59408.0</td>\n",
              "      <td>136.555222</td>\n",
              "      <td>1640.007194</td>\n",
              "      <td>-3225.0</td>\n",
              "      <td>0.0</td>\n",
              "      <td>0.08</td>\n",
              "      <td>8.43</td>\n",
              "      <td>185960.0</td>\n",
              "    </tr>\n",
              "    <tr>\n",
              "      <th>Y2017</th>\n",
              "      <td>59437.0</td>\n",
              "      <td>140.917765</td>\n",
              "      <td>1671.862359</td>\n",
              "      <td>-1582.0</td>\n",
              "      <td>0.0</td>\n",
              "      <td>0.10</td>\n",
              "      <td>9.00</td>\n",
              "      <td>190873.0</td>\n",
              "    </tr>\n",
              "    <tr>\n",
              "      <th>Y2018</th>\n",
              "      <td>59507.0</td>\n",
              "      <td>143.758381</td>\n",
              "      <td>1710.782658</td>\n",
              "      <td>-3396.0</td>\n",
              "      <td>0.0</td>\n",
              "      <td>0.07</td>\n",
              "      <td>9.00</td>\n",
              "      <td>195875.0</td>\n",
              "    </tr>\n",
              "  </tbody>\n",
              "</table>\n",
              "</div>\n",
              "      <button class=\"colab-df-convert\" onclick=\"convertToInteractive('df-817a6575-8ce5-4f5f-ad89-f95306a69cfb')\"\n",
              "              title=\"Convert this dataframe to an interactive table.\"\n",
              "              style=\"display:none;\">\n",
              "        \n",
              "  <svg xmlns=\"http://www.w3.org/2000/svg\" height=\"24px\"viewBox=\"0 0 24 24\"\n",
              "       width=\"24px\">\n",
              "    <path d=\"M0 0h24v24H0V0z\" fill=\"none\"/>\n",
              "    <path d=\"M18.56 5.44l.94 2.06.94-2.06 2.06-.94-2.06-.94-.94-2.06-.94 2.06-2.06.94zm-11 1L8.5 8.5l.94-2.06 2.06-.94-2.06-.94L8.5 2.5l-.94 2.06-2.06.94zm10 10l.94 2.06.94-2.06 2.06-.94-2.06-.94-.94-2.06-.94 2.06-2.06.94z\"/><path d=\"M17.41 7.96l-1.37-1.37c-.4-.4-.92-.59-1.43-.59-.52 0-1.04.2-1.43.59L10.3 9.45l-7.72 7.72c-.78.78-.78 2.05 0 2.83L4 21.41c.39.39.9.59 1.41.59.51 0 1.02-.2 1.41-.59l7.78-7.78 2.81-2.81c.8-.78.8-2.07 0-2.86zM5.41 20L4 18.59l7.72-7.72 1.47 1.35L5.41 20z\"/>\n",
              "  </svg>\n",
              "      </button>\n",
              "      \n",
              "  <style>\n",
              "    .colab-df-container {\n",
              "      display:flex;\n",
              "      flex-wrap:wrap;\n",
              "      gap: 12px;\n",
              "    }\n",
              "\n",
              "    .colab-df-convert {\n",
              "      background-color: #E8F0FE;\n",
              "      border: none;\n",
              "      border-radius: 50%;\n",
              "      cursor: pointer;\n",
              "      display: none;\n",
              "      fill: #1967D2;\n",
              "      height: 32px;\n",
              "      padding: 0 0 0 0;\n",
              "      width: 32px;\n",
              "    }\n",
              "\n",
              "    .colab-df-convert:hover {\n",
              "      background-color: #E2EBFA;\n",
              "      box-shadow: 0px 1px 2px rgba(60, 64, 67, 0.3), 0px 1px 3px 1px rgba(60, 64, 67, 0.15);\n",
              "      fill: #174EA6;\n",
              "    }\n",
              "\n",
              "    [theme=dark] .colab-df-convert {\n",
              "      background-color: #3B4455;\n",
              "      fill: #D2E3FC;\n",
              "    }\n",
              "\n",
              "    [theme=dark] .colab-df-convert:hover {\n",
              "      background-color: #434B5C;\n",
              "      box-shadow: 0px 1px 3px 1px rgba(0, 0, 0, 0.15);\n",
              "      filter: drop-shadow(0px 1px 2px rgba(0, 0, 0, 0.3));\n",
              "      fill: #FFFFFF;\n",
              "    }\n",
              "  </style>\n",
              "\n",
              "      <script>\n",
              "        const buttonEl =\n",
              "          document.querySelector('#df-817a6575-8ce5-4f5f-ad89-f95306a69cfb button.colab-df-convert');\n",
              "        buttonEl.style.display =\n",
              "          google.colab.kernel.accessAllowed ? 'block' : 'none';\n",
              "\n",
              "        async function convertToInteractive(key) {\n",
              "          const element = document.querySelector('#df-817a6575-8ce5-4f5f-ad89-f95306a69cfb');\n",
              "          const dataTable =\n",
              "            await google.colab.kernel.invokeFunction('convertToInteractive',\n",
              "                                                     [key], {});\n",
              "          if (!dataTable) return;\n",
              "\n",
              "          const docLinkHtml = 'Like what you see? Visit the ' +\n",
              "            '<a target=\"_blank\" href=https://colab.research.google.com/notebooks/data_table.ipynb>data table notebook</a>'\n",
              "            + ' to learn more about interactive tables.';\n",
              "          element.innerHTML = '';\n",
              "          dataTable['output_type'] = 'display_data';\n",
              "          await google.colab.output.renderOutput(dataTable, element);\n",
              "          const docLink = document.createElement('div');\n",
              "          docLink.innerHTML = docLinkHtml;\n",
              "          element.appendChild(docLink);\n",
              "        }\n",
              "      </script>\n",
              "    </div>\n",
              "  </div>\n",
              "  "
            ],
            "text/plain": [
              "                count         mean          std  ...      50%      75%       max\n",
              "Area Code     60943.0   134.265576    72.605709  ...   136.00   195.00     276.0\n",
              "Item Code     60943.0  2687.176706   146.055739  ...  2630.00  2775.00    2961.0\n",
              "Element Code  60943.0  3814.856456  2212.007033  ...  5142.00  5511.00    5911.0\n",
              "Y2014         59354.0   134.196282  1567.663696  ...     0.09     8.34  176405.0\n",
              "Y2015         59395.0   135.235966  1603.403984  ...     0.08     8.46  181137.0\n",
              "Y2016         59408.0   136.555222  1640.007194  ...     0.08     8.43  185960.0\n",
              "Y2017         59437.0   140.917765  1671.862359  ...     0.10     9.00  190873.0\n",
              "Y2018         59507.0   143.758381  1710.782658  ...     0.07     9.00  195875.0\n",
              "\n",
              "[8 rows x 8 columns]"
            ]
          },
          "metadata": {},
          "execution_count": 76
        }
      ]
    },
    {
      "cell_type": "code",
      "source": [
        "# Q16\n",
        "# data.info()\n",
        "data.groupby('Element Code')\n",
        "data.sum()"
      ],
      "metadata": {
        "colab": {
          "base_uri": "https://localhost:8080/"
        },
        "id": "YvhKtOnhGMES",
        "outputId": "2fdadb01-6e4b-4527-b1ce-eecf88c79f46"
      },
      "execution_count": 75,
      "outputs": [
        {
          "output_type": "execute_result",
          "data": {
            "text/plain": [
              "Area Code                                                 8182547\n",
              "Area            AlgeriaAlgeriaAlgeriaAlgeriaAlgeriaAlgeriaAlge...\n",
              "Item Code                                               163764610\n",
              "Item            PopulationPopulationGrand TotalGrand TotalGran...\n",
              "Element Code                                            232488797\n",
              "Element         Total Population - Both sexesDomestic supply q...\n",
              "Unit            1000 persons1000 tonneskcal/capita/dayg/capita...\n",
              "Y2014                                                 7.96509e+06\n",
              "Y2015                                                 8.03234e+06\n",
              "Y2016                                                 8.11247e+06\n",
              "Y2017                                                 8.37573e+06\n",
              "Y2018                                                 8.55463e+06\n",
              "dtype: object"
            ]
          },
          "metadata": {},
          "execution_count": 75
        }
      ]
    },
    {
      "cell_type": "code",
      "source": [
        "data['Y2014'].sum()"
      ],
      "metadata": {
        "colab": {
          "base_uri": "https://localhost:8080/"
        },
        "id": "uzwv7RAbGkP5",
        "outputId": "84d5c3b2-6de1-49ec-dc80-a156c41f14e7"
      },
      "execution_count": 72,
      "outputs": [
        {
          "output_type": "execute_result",
          "data": {
            "text/plain": [
              "7965086.130000001"
            ]
          },
          "metadata": {},
          "execution_count": 72
        }
      ]
    },
    {
      "cell_type": "code",
      "source": [
        "# Q17\n",
        "data.groupby('Element Code')['Y2018'].sum()"
      ],
      "metadata": {
        "colab": {
          "base_uri": "https://localhost:8080/"
        },
        "id": "VMYygNuwHDOt",
        "outputId": "07235f2d-5197-4ef0-ab86-3d54a25e551f"
      },
      "execution_count": 74,
      "outputs": [
        {
          "output_type": "execute_result",
          "data": {
            "text/plain": [
              "Element Code\n",
              "511     1140605.00\n",
              "645       49056.85\n",
              "664      455261.00\n",
              "674       11833.56\n",
              "684       10258.69\n",
              "5072      20577.91\n",
              "5123     163902.00\n",
              "5131     308429.00\n",
              "5142    1303841.28\n",
              "5154      91300.97\n",
              "5170      34864.00\n",
              "5171         90.00\n",
              "5301    2161192.10\n",
              "5511    2075072.89\n",
              "5521     233489.68\n",
              "5527      25263.14\n",
              "5611     287997.09\n",
              "5911     181594.80\n",
              "Name: Y2018, dtype: float64"
            ]
          },
          "metadata": {},
          "execution_count": 74
        }
      ]
    },
    {
      "cell_type": "code",
      "source": [
        "# Q20\n",
        "print(len(data['Area']))\n",
        "data1['Area'].unique()"
      ],
      "metadata": {
        "colab": {
          "base_uri": "https://localhost:8080/"
        },
        "id": "uvamJjADHYSe",
        "outputId": "e19723c6-cdec-4e42-80d2-99e9504ffe44"
      },
      "execution_count": 109,
      "outputs": [
        {
          "output_type": "stream",
          "name": "stdout",
          "text": [
            "60943\n"
          ]
        },
        {
          "output_type": "execute_result",
          "data": {
            "text/plain": [
              "array(['Algeria', 'Angola', 'Benin', 'Botswana', 'Burkina Faso',\n",
              "       'Cabo Verde', 'Cameroon', 'Central African Republic', 'Chad',\n",
              "       'Comoros', 'Congo', \"Côte d'Ivoire\", 'Djibouti', 'Egypt',\n",
              "       'Eswatini', 'Ethiopia', 'Ethiopia PDR', 'Gabon', 'Gambia', 'Ghana',\n",
              "       'Guinea', 'Guinea-Bissau', 'Kenya', 'Lesotho', 'Liberia',\n",
              "       'Madagascar', 'Malawi', 'Mali', 'Mauritania', 'Mauritius',\n",
              "       'Morocco', 'Mozambique', 'Namibia', 'Niger', 'Nigeria', 'Rwanda',\n",
              "       'Sao Tome and Principe', 'Senegal', 'Seychelles', 'Sierra Leone',\n",
              "       'South Africa', 'Sudan', 'Sudan (former)', 'Togo', 'Tunisia',\n",
              "       'Uganda', 'United Republic of Tanzania', 'Zambia', 'Zimbabwe'],\n",
              "      dtype=object)"
            ]
          },
          "metadata": {},
          "execution_count": 109
        }
      ]
    },
    {
      "cell_type": "code",
      "source": [
        ""
      ],
      "metadata": {
        "id": "YobdsL5_Ljk4"
      },
      "execution_count": null,
      "outputs": []
    }
  ]
}